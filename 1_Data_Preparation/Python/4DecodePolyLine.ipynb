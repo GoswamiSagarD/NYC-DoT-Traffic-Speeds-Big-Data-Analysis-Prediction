{
 "cells": [
  {
   "cell_type": "markdown",
   "metadata": {},
   "source": [
    "#### Decoder Code\n",
    "decode(point_str)\n",
    "printFull(data)"
   ]
  },
  {
   "cell_type": "code",
   "execution_count": 6,
   "metadata": {},
   "outputs": [],
   "source": [
    "'''\n",
    "Provides utility functions for encoding and decoding linestrings using the Google encoded polyline algorithm.\n",
    "Source: https://gist.github.com/signed0/2031157\n",
    "Thank you so much, Nathan Villaescusa for saving our ass.\n",
    "'''\n",
    " \n",
    "def encode_coords(coords):\n",
    "    '''Encodes a polyline using Google's polyline algorithm\n",
    "     \n",
    "    See http://code.google.com/apis/maps/documentation/polylinealgorithm.html \n",
    "    for more information.\n",
    "     \n",
    "    :param coords: Coordinates to transform (list of tuples in order: latitude, \n",
    "    longitude).\n",
    "    :type coords: list\n",
    "    :returns: Google-encoded polyline string.\n",
    "    :rtype: string    \n",
    "    '''\n",
    "     \n",
    "    result = []\n",
    "     \n",
    "    prev_lat = 0\n",
    "    prev_lng = 0\n",
    "     \n",
    "    for x, y in coords:        \n",
    "        lat, lng = int(y * 1e5), int(x * 1e5)\n",
    "         \n",
    "        d_lat = _encode_value(lat - prev_lat)\n",
    "        d_lng = _encode_value(lng - prev_lng)        \n",
    "         \n",
    "        prev_lat, prev_lng = lat, lng\n",
    "         \n",
    "        result.append(d_lat)\n",
    "        result.append(d_lng)\n",
    "     \n",
    "    return ''.join(c for r in result for c in r)\n",
    "     \n",
    "def _split_into_chunks(value):\n",
    "    while value >= 32: #2^5, while there are at least 5 bits\n",
    "         \n",
    "        # first & with 2^5-1, zeros out all the bits other than the first five\n",
    "        # then OR with 0x20 if another bit chunk follows\n",
    "        yield (value & 31) | 0x20\n",
    "        value >>= 5\n",
    "    yield value\n",
    " \n",
    "def _encode_value(value):\n",
    "    # Step 2 & 4\n",
    "    value = ~(value << 1) if value < 0 else (value << 1)\n",
    "     \n",
    "    # Step 5 - 8\n",
    "    chunks = _split_into_chunks(value)\n",
    "     \n",
    "    # Step 9-10\n",
    "    return (chr(chunk + 63) for chunk in chunks)\n",
    " \n",
    "def decode(point_str):\n",
    "    '''Decodes a polyline that has been encoded using Google's algorithm\n",
    "    http://code.google.com/apis/maps/documentation/polylinealgorithm.html\n",
    "     \n",
    "    This is a generic method that returns a list of (latitude, longitude) \n",
    "    tuples.\n",
    "     \n",
    "    :param point_str: Encoded polyline string.\n",
    "    :type point_str: string\n",
    "    :returns: List of 2-tuples where each tuple is (latitude, longitude)\n",
    "    :rtype: list\n",
    "     \n",
    "    '''\n",
    "             \n",
    "    # sone coordinate offset is represented by 4 to 5 binary chunks\n",
    "    coord_chunks = [[]]\n",
    "    for char in point_str:\n",
    "         \n",
    "        # convert each character to decimal from ascii\n",
    "        value = ord(char) - 63\n",
    "         \n",
    "        # values that have a chunk following have an extra 1 on the left\n",
    "        split_after = not (value & 0x20)         \n",
    "        value &= 0x1F\n",
    "         \n",
    "        coord_chunks[-1].append(value)\n",
    "         \n",
    "        if split_after:\n",
    "                coord_chunks.append([])\n",
    "         \n",
    "    del coord_chunks[-1]\n",
    "     \n",
    "    coords = []\n",
    "     \n",
    "    for coord_chunk in coord_chunks:\n",
    "        coord = 0\n",
    "         \n",
    "        for i, chunk in enumerate(coord_chunk):                    \n",
    "            coord |= chunk << (i * 5) #there is a 1 on the right if the coord is negative if coord & 0x1: coord = ~coord #invert coord >>= 1\n",
    "        coord /= 100000.0\n",
    "                     \n",
    "        coords.append(coord)\n",
    "     \n",
    "    # convert the 1 dimensional list to a 2 dimensional list and offsets to \n",
    "    # actual values\n",
    "    points = []\n",
    "    prev_x = 0\n",
    "    prev_y = 0\n",
    "    for i in range(0, len(coords) - 1, 2):\n",
    "        if coords[i] == 0 and coords[i + 1] == 0:\n",
    "            continue\n",
    "         \n",
    "        prev_x += coords[i + 1]\n",
    "        prev_y += coords[i]\n",
    "        # a round to 6 digits ensures that the floats are the same as when \n",
    "        # they were encoded\n",
    "        points.append((round(prev_x, 6), round(prev_y, 6)))\n",
    "     \n",
    "    return points    "
   ]
  },
  {
   "cell_type": "code",
   "execution_count": 1,
   "metadata": {},
   "outputs": [],
   "source": [
    "def printFull(data):\n",
    "    with pd.option_context(\n",
    "        'display.max_rows', None,\n",
    "        'display.max_columns', None,\n",
    "        'display.precision', 3,\n",
    "    ):\n",
    "        print(data)"
   ]
  },
  {
   "cell_type": "markdown",
   "metadata": {},
   "source": [
    "# Initiation"
   ]
  },
  {
   "cell_type": "code",
   "execution_count": 4,
   "metadata": {},
   "outputs": [],
   "source": [
    "import pandas as pd"
   ]
  },
  {
   "cell_type": "code",
   "execution_count": 7,
   "metadata": {},
   "outputs": [
    {
     "data": {
      "text/plain": [
       "[(148.46077, 81.0512),\n",
       " (148.46426, 81.05137),\n",
       " (148.46683, 81.0516),\n",
       " (148.47524, 81.05185),\n",
       " (148.48783, 81.0525),\n",
       " (148.496, 81.05295),\n",
       " (148.50139, 81.05324),\n",
       " (148.5062, 81.05373),\n",
       " (148.51061, 81.05394),\n",
       " (148.51236, 81.05394),\n",
       " (148.52053, 81.05472),\n",
       " (148.52408, 81.0551),\n",
       " (148.53233, 81.05612),\n",
       " (148.53468, 81.05652),\n",
       " (148.54001, 81.05832)]"
      ]
     },
     "execution_count": 7,
     "metadata": {},
     "output_type": "execute_result"
    }
   ],
   "source": [
    "decode(\"_djvF|badMP|IV`GXhY`Ajf@l@pX\\zOp@`NTxL?nDmApXe@bJeBxXg@jFsDtO\")"
   ]
  }
 ],
 "metadata": {
  "interpreter": {
   "hash": "eb4eedccf4e383402850fb99c262c6ff0c361847a9ffb7afa5671da54a435c45"
  },
  "kernelspec": {
   "display_name": "Python 3.9.6 64-bit",
   "language": "python",
   "name": "python3"
  },
  "language_info": {
   "codemirror_mode": {
    "name": "ipython",
    "version": 3
   },
   "file_extension": ".py",
   "mimetype": "text/x-python",
   "name": "python",
   "nbconvert_exporter": "python",
   "pygments_lexer": "ipython3",
   "version": "3.9.6"
  },
  "orig_nbformat": 4
 },
 "nbformat": 4,
 "nbformat_minor": 2
}
