{
 "cells": [
  {
   "cell_type": "code",
   "execution_count": 10,
   "metadata": {},
   "outputs": [],
   "source": [
    "from pyspark.ml.regression import GeneralizedLinearRegression\n",
    "from pyspark import SparkContext\n",
    "from pyspark.sql import SQLContext\n",
    "from pyspark.ml.feature import VectorAssembler\n",
    "from pyspark.ml.evaluation import RegressionEvaluator\n",
    "from sklearn.datasets import load_boston\n",
    "import pandas as pd\n",
    "import matplotlib.pyplot as plt \n",
    "\n",
    "import pyspark\n",
    "from pyspark.sql import SparkSession\n",
    "\n",
    "spark = SparkSession\\\n",
    "    .builder\\\n",
    "    .appName(\"spark\")\\\n",
    "    .config('spark.driver.memory', '32g')\\\n",
    "    .config(\"hive.server2.thrift.port\", 10000)\\\n",
    "    .config(\"spark.sql.hive.thriftServer.singleSession\", True)\\\n",
    "    .enableHiveSupport()\\\n",
    "    .getOrCreate()\n",
    "\n",
    "spc = SparkSession.sparkContext"
   ]
  },
  {
   "cell_type": "code",
   "execution_count": 51,
   "metadata": {},
   "outputs": [
    {
     "name": "stdout",
     "output_type": "stream",
     "text": [
      "root\n",
      " |-- ID: long (nullable = true)\n",
      " |-- Speed: float (nullable = true)\n",
      " |-- TravelTime: integer (nullable = true)\n",
      " |-- timedate: timestamp (nullable = true)\n",
      " |-- LinkId: integer (nullable = true)\n",
      " |-- LinkPoints: string (nullable = true)\n",
      " |-- Owner: string (nullable = true)\n",
      " |-- Borough: string (nullable = true)\n",
      " |-- Link_Name: string (nullable = true)\n",
      "\n"
     ]
    }
   ],
   "source": [
    "from pyspark.sql.types import StructType, StructField\n",
    "from pyspark.sql.types import DoubleType, IntegerType, StringType,TimestampType\n",
    "from pyspark.sql.types import DateType\n",
    "from pyspark.sql.functions import *\n",
    "\n",
    "schema = StructType([\n",
    "    StructField(\"ID\", IntegerType()),\n",
    "    StructField(\"Speed\", DoubleType()),\n",
    "    StructField(\"TravelTime\", IntegerType()),\n",
    "    StructField(\"Status\", IntegerType()),\n",
    "    StructField(\"timedate\", StringType()),\n",
    "    StructField(\"LinkId\", IntegerType()),\n",
    "    StructField(\"LinkPoints\", StringType()),\n",
    "    StructField(\"EncodedLinkPoints\", StringType()),\n",
    "    StructField(\"EncodedPolyLineLvls\", StringType()),\n",
    "    StructField(\"Owner\", StringType()),\n",
    "    StructField(\"TranscomId\", IntegerType()),\n",
    "    StructField(\"Borough\", StringType()),\n",
    "    StructField(\"Link_Name\", StringType())\n",
    "])\n",
    "\n",
    "schema1 = \"ID bigint, Speed float, TravelTime int, Status int, TimeDate string, LinkId int, LinkPoints string, EncodedLinkPoints string, EncodedPolyLineLvls string, Owner string, TranscomId int, Borough string,Link_Name string\"\n",
    "df2 = spark.read.format(\"csv\").option(\"header\", \"true\").schema(schema1).load(\"file:/Users/minoseah629/Downloads/DOT_Traffic_Speeds_NBE.csv\")\n",
    "df2 = df2.withColumn(\"timedate\", to_timestamp(\"timedate\", 'MM/dd/yyyy hh:mm:ss a'))\n",
    "df2 = df2.na.drop()\n",
    "df2 = df2.drop(*(\"Status\",\"EncodedLinkPoints\",\"EncodedPolyLineLvls\",\"TranscomId\"))\n",
    "df2.printSchema()\n",
    "df2.createOrReplaceTempView(\"dataset\")\n",
    "\n",
    "# boston = load_boston()\n",
    "# print(boston.feature_names)\n",
    "# df_boston = pd.DataFrame(boston.data,columns=boston.feature_names)\n",
    "# df_boston['target'] = pd.Series(boston.target)\n",
    "# print(df_boston.head())"
   ]
  },
  {
   "cell_type": "code",
   "execution_count": 52,
   "metadata": {},
   "outputs": [],
   "source": [
    "df_boston= df2.to_pandas_on_spark()"
   ]
  },
  {
   "cell_type": "code",
   "execution_count": 54,
   "metadata": {},
   "outputs": [
    {
     "ename": "TypeError",
     "evalue": "StructType can not accept object 'ID' in type <class 'str'>",
     "output_type": "error",
     "traceback": [
      "\u001b[0;31m---------------------------------------------------------------------------\u001b[0m",
      "\u001b[0;31mTypeError\u001b[0m                                 Traceback (most recent call last)",
      "\u001b[1;32m/Users/minoseah629/Desktop/ait614/General Linear Regression.ipynb Cell 4'\u001b[0m in \u001b[0;36m<cell line: 4>\u001b[0;34m()\u001b[0m\n\u001b[1;32m      <a href='vscode-notebook-cell:/Users/minoseah629/Desktop/ait614/General%20Linear%20Regression.ipynb#ch0000003?line=0'>1</a>\u001b[0m sqlContext \u001b[39m=\u001b[39m SQLContext(sparkContext\u001b[39m=\u001b[39mspark\u001b[39m.\u001b[39msparkContext, sparkSession\u001b[39m=\u001b[39mspark)\n\u001b[1;32m      <a href='vscode-notebook-cell:/Users/minoseah629/Desktop/ait614/General%20Linear%20Regression.ipynb#ch0000003?line=1'>2</a>\u001b[0m \u001b[39m# schema1 = \"ID string, Speed string, TravelTime string, TimeDate string, LinkId string, LinkPoints string, Owner string, Borough string,Link_Name string\"\u001b[39;00m\n\u001b[1;32m      <a href='vscode-notebook-cell:/Users/minoseah629/Desktop/ait614/General%20Linear%20Regression.ipynb#ch0000003?line=2'>3</a>\u001b[0m \u001b[39m# df_boston = df_boston.drop(columns=(\"ID\"))\u001b[39;00m\n\u001b[0;32m----> <a href='vscode-notebook-cell:/Users/minoseah629/Desktop/ait614/General%20Linear%20Regression.ipynb#ch0000003?line=3'>4</a>\u001b[0m data \u001b[39m=\u001b[39m sqlContext\u001b[39m.\u001b[39;49mcreateDataFrame(df_boston, schema\u001b[39m=\u001b[39;49mschema1)\n\u001b[1;32m      <a href='vscode-notebook-cell:/Users/minoseah629/Desktop/ait614/General%20Linear%20Regression.ipynb#ch0000003?line=4'>5</a>\u001b[0m \u001b[39mprint\u001b[39m(data\u001b[39m.\u001b[39mprintSchema())\n",
      "File \u001b[0;32m/Library/Frameworks/Python.framework/Versions/3.10/lib/python3.10/site-packages/pyspark/sql/context.py:373\u001b[0m, in \u001b[0;36mSQLContext.createDataFrame\u001b[0;34m(self, data, schema, samplingRatio, verifySchema)\u001b[0m\n\u001b[1;32m    <a href='file:///Library/Frameworks/Python.framework/Versions/3.10/lib/python3.10/site-packages/pyspark/sql/context.py?line=270'>271</a>\u001b[0m \u001b[39mdef\u001b[39;00m \u001b[39mcreateDataFrame\u001b[39m(\u001b[39mself\u001b[39m, data, schema\u001b[39m=\u001b[39m\u001b[39mNone\u001b[39;00m, samplingRatio\u001b[39m=\u001b[39m\u001b[39mNone\u001b[39;00m, verifySchema\u001b[39m=\u001b[39m\u001b[39mTrue\u001b[39;00m):\n\u001b[1;32m    <a href='file:///Library/Frameworks/Python.framework/Versions/3.10/lib/python3.10/site-packages/pyspark/sql/context.py?line=271'>272</a>\u001b[0m     \u001b[39m\"\"\"\u001b[39;00m\n\u001b[1;32m    <a href='file:///Library/Frameworks/Python.framework/Versions/3.10/lib/python3.10/site-packages/pyspark/sql/context.py?line=272'>273</a>\u001b[0m \u001b[39m    Creates a :class:`DataFrame` from an :class:`RDD`, a list or a :class:`pandas.DataFrame`.\u001b[39;00m\n\u001b[1;32m    <a href='file:///Library/Frameworks/Python.framework/Versions/3.10/lib/python3.10/site-packages/pyspark/sql/context.py?line=273'>274</a>\u001b[0m \n\u001b[0;32m   (...)\u001b[0m\n\u001b[1;32m    <a href='file:///Library/Frameworks/Python.framework/Versions/3.10/lib/python3.10/site-packages/pyspark/sql/context.py?line=370'>371</a>\u001b[0m \u001b[39m    Py4JJavaError: ...\u001b[39;00m\n\u001b[1;32m    <a href='file:///Library/Frameworks/Python.framework/Versions/3.10/lib/python3.10/site-packages/pyspark/sql/context.py?line=371'>372</a>\u001b[0m \u001b[39m    \"\"\"\u001b[39;00m\n\u001b[0;32m--> <a href='file:///Library/Frameworks/Python.framework/Versions/3.10/lib/python3.10/site-packages/pyspark/sql/context.py?line=372'>373</a>\u001b[0m     \u001b[39mreturn\u001b[39;00m \u001b[39mself\u001b[39;49m\u001b[39m.\u001b[39;49msparkSession\u001b[39m.\u001b[39;49mcreateDataFrame(data, schema, samplingRatio, verifySchema)\n",
      "File \u001b[0;32m/Library/Frameworks/Python.framework/Versions/3.10/lib/python3.10/site-packages/pyspark/sql/session.py:675\u001b[0m, in \u001b[0;36mSparkSession.createDataFrame\u001b[0;34m(self, data, schema, samplingRatio, verifySchema)\u001b[0m\n\u001b[1;32m    <a href='file:///Library/Frameworks/Python.framework/Versions/3.10/lib/python3.10/site-packages/pyspark/sql/session.py?line=670'>671</a>\u001b[0m \u001b[39mif\u001b[39;00m has_pandas \u001b[39mand\u001b[39;00m \u001b[39misinstance\u001b[39m(data, pandas\u001b[39m.\u001b[39mDataFrame):\n\u001b[1;32m    <a href='file:///Library/Frameworks/Python.framework/Versions/3.10/lib/python3.10/site-packages/pyspark/sql/session.py?line=671'>672</a>\u001b[0m     \u001b[39m# Create a DataFrame from pandas DataFrame.\u001b[39;00m\n\u001b[1;32m    <a href='file:///Library/Frameworks/Python.framework/Versions/3.10/lib/python3.10/site-packages/pyspark/sql/session.py?line=672'>673</a>\u001b[0m     \u001b[39mreturn\u001b[39;00m \u001b[39msuper\u001b[39m(SparkSession, \u001b[39mself\u001b[39m)\u001b[39m.\u001b[39mcreateDataFrame(\n\u001b[1;32m    <a href='file:///Library/Frameworks/Python.framework/Versions/3.10/lib/python3.10/site-packages/pyspark/sql/session.py?line=673'>674</a>\u001b[0m         data, schema, samplingRatio, verifySchema)\n\u001b[0;32m--> <a href='file:///Library/Frameworks/Python.framework/Versions/3.10/lib/python3.10/site-packages/pyspark/sql/session.py?line=674'>675</a>\u001b[0m \u001b[39mreturn\u001b[39;00m \u001b[39mself\u001b[39;49m\u001b[39m.\u001b[39;49m_create_dataframe(data, schema, samplingRatio, verifySchema)\n",
      "File \u001b[0;32m/Library/Frameworks/Python.framework/Versions/3.10/lib/python3.10/site-packages/pyspark/sql/session.py:700\u001b[0m, in \u001b[0;36mSparkSession._create_dataframe\u001b[0;34m(self, data, schema, samplingRatio, verifySchema)\u001b[0m\n\u001b[1;32m    <a href='file:///Library/Frameworks/Python.framework/Versions/3.10/lib/python3.10/site-packages/pyspark/sql/session.py?line=697'>698</a>\u001b[0m     rdd, schema \u001b[39m=\u001b[39m \u001b[39mself\u001b[39m\u001b[39m.\u001b[39m_createFromRDD(data\u001b[39m.\u001b[39mmap(prepare), schema, samplingRatio)\n\u001b[1;32m    <a href='file:///Library/Frameworks/Python.framework/Versions/3.10/lib/python3.10/site-packages/pyspark/sql/session.py?line=698'>699</a>\u001b[0m \u001b[39melse\u001b[39;00m:\n\u001b[0;32m--> <a href='file:///Library/Frameworks/Python.framework/Versions/3.10/lib/python3.10/site-packages/pyspark/sql/session.py?line=699'>700</a>\u001b[0m     rdd, schema \u001b[39m=\u001b[39m \u001b[39mself\u001b[39;49m\u001b[39m.\u001b[39;49m_createFromLocal(\u001b[39mmap\u001b[39;49m(prepare, data), schema)\n\u001b[1;32m    <a href='file:///Library/Frameworks/Python.framework/Versions/3.10/lib/python3.10/site-packages/pyspark/sql/session.py?line=700'>701</a>\u001b[0m jrdd \u001b[39m=\u001b[39m \u001b[39mself\u001b[39m\u001b[39m.\u001b[39m_jvm\u001b[39m.\u001b[39mSerDeUtil\u001b[39m.\u001b[39mtoJavaArray(rdd\u001b[39m.\u001b[39m_to_java_object_rdd())\n\u001b[1;32m    <a href='file:///Library/Frameworks/Python.framework/Versions/3.10/lib/python3.10/site-packages/pyspark/sql/session.py?line=701'>702</a>\u001b[0m jdf \u001b[39m=\u001b[39m \u001b[39mself\u001b[39m\u001b[39m.\u001b[39m_jsparkSession\u001b[39m.\u001b[39mapplySchemaToPythonRDD(jrdd\u001b[39m.\u001b[39mrdd(), schema\u001b[39m.\u001b[39mjson())\n",
      "File \u001b[0;32m/Library/Frameworks/Python.framework/Versions/3.10/lib/python3.10/site-packages/pyspark/sql/session.py:509\u001b[0m, in \u001b[0;36mSparkSession._createFromLocal\u001b[0;34m(self, data, schema)\u001b[0m\n\u001b[1;32m    <a href='file:///Library/Frameworks/Python.framework/Versions/3.10/lib/python3.10/site-packages/pyspark/sql/session.py?line=506'>507</a>\u001b[0m \u001b[39m# make sure data could consumed multiple times\u001b[39;00m\n\u001b[1;32m    <a href='file:///Library/Frameworks/Python.framework/Versions/3.10/lib/python3.10/site-packages/pyspark/sql/session.py?line=507'>508</a>\u001b[0m \u001b[39mif\u001b[39;00m \u001b[39mnot\u001b[39;00m \u001b[39misinstance\u001b[39m(data, \u001b[39mlist\u001b[39m):\n\u001b[0;32m--> <a href='file:///Library/Frameworks/Python.framework/Versions/3.10/lib/python3.10/site-packages/pyspark/sql/session.py?line=508'>509</a>\u001b[0m     data \u001b[39m=\u001b[39m \u001b[39mlist\u001b[39;49m(data)\n\u001b[1;32m    <a href='file:///Library/Frameworks/Python.framework/Versions/3.10/lib/python3.10/site-packages/pyspark/sql/session.py?line=510'>511</a>\u001b[0m \u001b[39mif\u001b[39;00m schema \u001b[39mis\u001b[39;00m \u001b[39mNone\u001b[39;00m \u001b[39mor\u001b[39;00m \u001b[39misinstance\u001b[39m(schema, (\u001b[39mlist\u001b[39m, \u001b[39mtuple\u001b[39m)):\n\u001b[1;32m    <a href='file:///Library/Frameworks/Python.framework/Versions/3.10/lib/python3.10/site-packages/pyspark/sql/session.py?line=511'>512</a>\u001b[0m     struct \u001b[39m=\u001b[39m \u001b[39mself\u001b[39m\u001b[39m.\u001b[39m_inferSchemaFromList(data, names\u001b[39m=\u001b[39mschema)\n",
      "File \u001b[0;32m/Library/Frameworks/Python.framework/Versions/3.10/lib/python3.10/site-packages/pyspark/sql/session.py:682\u001b[0m, in \u001b[0;36mSparkSession._create_dataframe.<locals>.prepare\u001b[0;34m(obj)\u001b[0m\n\u001b[1;32m    <a href='file:///Library/Frameworks/Python.framework/Versions/3.10/lib/python3.10/site-packages/pyspark/sql/session.py?line=680'>681</a>\u001b[0m \u001b[39mdef\u001b[39;00m \u001b[39mprepare\u001b[39m(obj):\n\u001b[0;32m--> <a href='file:///Library/Frameworks/Python.framework/Versions/3.10/lib/python3.10/site-packages/pyspark/sql/session.py?line=681'>682</a>\u001b[0m     verify_func(obj)\n\u001b[1;32m    <a href='file:///Library/Frameworks/Python.framework/Versions/3.10/lib/python3.10/site-packages/pyspark/sql/session.py?line=682'>683</a>\u001b[0m     \u001b[39mreturn\u001b[39;00m obj\n",
      "File \u001b[0;32m/Library/Frameworks/Python.framework/Versions/3.10/lib/python3.10/site-packages/pyspark/sql/types.py:1411\u001b[0m, in \u001b[0;36m_make_type_verifier.<locals>.verify\u001b[0;34m(obj)\u001b[0m\n\u001b[1;32m   <a href='file:///Library/Frameworks/Python.framework/Versions/3.10/lib/python3.10/site-packages/pyspark/sql/types.py?line=1408'>1409</a>\u001b[0m \u001b[39mdef\u001b[39;00m \u001b[39mverify\u001b[39m(obj):\n\u001b[1;32m   <a href='file:///Library/Frameworks/Python.framework/Versions/3.10/lib/python3.10/site-packages/pyspark/sql/types.py?line=1409'>1410</a>\u001b[0m     \u001b[39mif\u001b[39;00m \u001b[39mnot\u001b[39;00m verify_nullability(obj):\n\u001b[0;32m-> <a href='file:///Library/Frameworks/Python.framework/Versions/3.10/lib/python3.10/site-packages/pyspark/sql/types.py?line=1410'>1411</a>\u001b[0m         verify_value(obj)\n",
      "File \u001b[0;32m/Library/Frameworks/Python.framework/Versions/3.10/lib/python3.10/site-packages/pyspark/sql/types.py:1398\u001b[0m, in \u001b[0;36m_make_type_verifier.<locals>.verify_struct\u001b[0;34m(obj)\u001b[0m\n\u001b[1;32m   <a href='file:///Library/Frameworks/Python.framework/Versions/3.10/lib/python3.10/site-packages/pyspark/sql/types.py?line=1395'>1396</a>\u001b[0m         verifier(d\u001b[39m.\u001b[39mget(f))\n\u001b[1;32m   <a href='file:///Library/Frameworks/Python.framework/Versions/3.10/lib/python3.10/site-packages/pyspark/sql/types.py?line=1396'>1397</a>\u001b[0m \u001b[39melse\u001b[39;00m:\n\u001b[0;32m-> <a href='file:///Library/Frameworks/Python.framework/Versions/3.10/lib/python3.10/site-packages/pyspark/sql/types.py?line=1397'>1398</a>\u001b[0m     \u001b[39mraise\u001b[39;00m \u001b[39mTypeError\u001b[39;00m(new_msg(\u001b[39m\"\u001b[39m\u001b[39mStructType can not accept object \u001b[39m\u001b[39m%r\u001b[39;00m\u001b[39m in type \u001b[39m\u001b[39m%s\u001b[39;00m\u001b[39m\"\u001b[39m\n\u001b[1;32m   <a href='file:///Library/Frameworks/Python.framework/Versions/3.10/lib/python3.10/site-packages/pyspark/sql/types.py?line=1398'>1399</a>\u001b[0m                             \u001b[39m%\u001b[39m (obj, \u001b[39mtype\u001b[39m(obj))))\n",
      "\u001b[0;31mTypeError\u001b[0m: StructType can not accept object 'ID' in type <class 'str'>"
     ]
    }
   ],
   "source": [
    "sqlContext = SQLContext(sparkContext=spark.sparkContext, sparkSession=spark)\n",
    "# schema1 = \"ID string, Speed string, TravelTime string, TimeDate string, LinkId string, LinkPoints string, Owner string, Borough string,Link_Name string\"\n",
    "# df_boston = df_boston.drop(columns=(\"ID\"))\n",
    "data = sqlContext.createDataFrame(df_boston, schema=schema1)\n",
    "print(data.printSchema()) "
   ]
  },
  {
   "cell_type": "code",
   "execution_count": 9,
   "metadata": {},
   "outputs": [
    {
     "data": {
      "text/plain": [
       "['CRIM',\n",
       " 'ZN',\n",
       " 'INDUS',\n",
       " 'CHAS',\n",
       " 'NOX',\n",
       " 'RM',\n",
       " 'AGE',\n",
       " 'DIS',\n",
       " 'RAD',\n",
       " 'TAX',\n",
       " 'PTRATIO',\n",
       " 'B',\n",
       " 'LSTAT']"
      ]
     },
     "metadata": {},
     "output_type": "display_data"
    },
    {
     "name": "stdout",
     "output_type": "stream",
     "text": [
      "VectorAssembler_56866d67fe47\n",
      "DataFrame[CRIM: double, ZN: double, INDUS: double, CHAS: double, NOX: double, RM: double, AGE: double, DIS: double, RAD: double, TAX: double, PTRATIO: double, B: double, LSTAT: double, target: double, features: vector]\n",
      "DataFrame[features: vector, target: double]\n",
      "+--------------------+------+\n",
      "|            features|target|\n",
      "+--------------------+------+\n",
      "|[0.00632,18.0,2.3...|  24.0|\n",
      "|[0.02731,0.0,7.07...|  21.6|\n",
      "|[0.02729,0.0,7.07...|  34.7|\n",
      "+--------------------+------+\n",
      "only showing top 3 rows\n",
      "\n"
     ]
    }
   ],
   "source": [
    "features = boston.feature_names.tolist()\n",
    "\n",
    "va = VectorAssembler(inputCols=features, outputCol='features')\n",
    "print(va)\n",
    "va_df = va.transform(data)\n",
    "print(va_df)\n",
    "va_df = va_df.select(['features', 'target'])\n",
    "print(va_df)\n",
    "va_df.show(3)"
   ]
  },
  {
   "cell_type": "code",
   "execution_count": 5,
   "metadata": {},
   "outputs": [],
   "source": [
    "(train, test) = va_df.randomSplit([0.8, 0.2])"
   ]
  },
  {
   "cell_type": "code",
   "execution_count": 6,
   "metadata": {},
   "outputs": [
    {
     "name": "stderr",
     "output_type": "stream",
     "text": [
      "22/03/24 23:09:40 WARN InstanceBuilder$NativeBLAS: Failed to load implementation from:dev.ludovic.netlib.blas.JNIBLAS\n",
      "22/03/24 23:09:40 WARN InstanceBuilder$NativeBLAS: Failed to load implementation from:dev.ludovic.netlib.blas.ForeignLinkerBLAS\n",
      "22/03/24 23:09:40 WARN InstanceBuilder$NativeLAPACK: Failed to load implementation from:dev.ludovic.netlib.lapack.JNILAPACK\n"
     ]
    },
    {
     "name": "stdout",
     "output_type": "stream",
     "text": [
      "Coefficients:  [-0.009927249072224286,0.0016275302585009596,-0.0006742292224727747,0.022832434643081125,-0.007189265687798964,0.0640299739649949,0.0003820766872218509,-0.040373027207059174,0.013781743253364193,-0.000630183015123388,-0.03268809311348797,0.0004826954632922484,-0.03552206292403898]\n",
      "Intercept:  3.8089315913878345\n"
     ]
    }
   ],
   "source": [
    "glr=GeneralizedLinearRegression(labelCol=\"target\",family=\"poisson\",maxIter=10,regParam=0.3)\n",
    "\n",
    "model = glr.fit(train)\n",
    " \n",
    "print(\"Coefficients: \", model.coefficients)\n",
    "print(\"Intercept: \", model.intercept)\n",
    " \n"
   ]
  },
  {
   "cell_type": "code",
   "execution_count": 7,
   "metadata": {},
   "outputs": [
    {
     "name": "stdout",
     "output_type": "stream",
     "text": [
      "Coefficients:\n",
      "    Feature Estimate Std Error  T Value P Value\n",
      "(Intercept)   3.8089    0.1725  22.0770  0.0000\n",
      "       CRIM  -0.0099    0.0022  -4.4768  0.0000\n",
      "         ZN   0.0016    0.0006   2.7077  0.0068\n",
      "      INDUS  -0.0007    0.0029  -0.2350  0.8142\n",
      "       CHAS   0.0228    0.0171   1.3383  0.1808\n",
      "        NOX  -0.0072    0.0190  -0.3788  0.7048\n",
      "         RM   0.0640    0.0138   4.6402  0.0000\n",
      "        AGE   0.0004    0.0006   0.6313  0.5278\n",
      "        DIS  -0.0404    0.0084  -4.7988  0.0000\n",
      "        RAD   0.0138    0.0035   3.9348  0.0001\n",
      "        TAX  -0.0006    0.0002  -3.1567  0.0016\n",
      "    PTRATIO  -0.0327    0.0057  -5.7813  0.0000\n",
      "          B   0.0005    0.0002   3.0917  0.0020\n",
      "      LSTAT  -0.0355    0.0025 -14.3560  0.0000\n",
      "\n",
      "(Dispersion parameter for poisson family taken to be 1.0000)\n",
      "   Null deviance: 1432.7378 on 398 degrees of freedom\n",
      "Residual deviance: 306.9978 on 398 degrees of freedom\n",
      "AIC: 2343.8703\n"
     ]
    }
   ],
   "source": [
    "print(model.summary)"
   ]
  },
  {
   "cell_type": "code",
   "execution_count": 8,
   "metadata": {},
   "outputs": [
    {
     "name": "stdout",
     "output_type": "stream",
     "text": [
      "+--------------------+------+------------------+\n",
      "|            features|target|        prediction|\n",
      "+--------------------+------+------------------+\n",
      "|[0.03237,0.0,2.18...|  33.4| 29.99131237895127|\n",
      "|[0.03359,75.0,2.9...|  34.9|  35.4562242082854|\n",
      "|[0.06905,0.0,2.18...|  36.2|27.924139211480725|\n",
      "+--------------------+------+------------------+\n",
      "only showing top 3 rows\n",
      "\n"
     ]
    }
   ],
   "source": [
    "tdata = model.transform(test)\n",
    "tdata.show(3)\n",
    "\n",
    "rmse = RegressionEvaluator(labelCol=\"target\", predictionCol=\"prediction\", metricName=\"rmse\")\n",
    "rmse = rmse.evaluate(tdata)\n",
    "mae = RegressionEvaluator(labelCol=\"target\", predictionCol=\"prediction\", metricName=\"mae\")\n",
    "mae = mae.evaluate(tdata)\n",
    "r2 = RegressionEvaluator(labelCol=\"target\", predictionCol=\"prediction\", metricName=\"r2\")\n",
    "r2 = r2.evaluate(tdata)"
   ]
  },
  {
   "cell_type": "code",
   "execution_count": 9,
   "metadata": {},
   "outputs": [
    {
     "data": {
      "image/png": "[encoded data removed]",
      "text/plain": [
       "<Figure size 432x288 with 1 Axes>"
      ]
     },
     "metadata": {
      "needs_background": "light"
     },
     "output_type": "display_data"
    }
   ],
   "source": [
    "x_ax = range(0, tdata.count())\n",
    "y_pred=tdata.select(\"prediction\").collect()\n",
    "y_orig=tdata.select(\"target\").collect()\n",
    " \n",
    "plt.plot(x_ax, y_orig, label=\"original\")\n",
    "plt.plot(x_ax, y_pred, label=\"predicted\")\n",
    "plt.title(\"Boston test and predicted data\")\n",
    "plt.xlabel('X-axis')\n",
    "plt.ylabel('Y-axis')\n",
    "plt.legend(loc='best',fancybox=True, shadow=True)\n",
    "plt.grid(True)\n",
    "plt.show() "
   ]
  },
  {
   "cell_type": "code",
   "execution_count": 3,
   "metadata": {},
   "outputs": [],
   "source": [
    "sc.stop()"
   ]
  }
 ],
 "metadata": {
  "interpreter": {
   "hash": "aee8b7b246df8f9039afb4144a1f6fd8d2ca17a180786b69acc140d282b71a49"
  },
  "kernelspec": {
   "display_name": "PySpark",
   "language": "python",
   "name": "python3"
  },
  "language_info": {
   "codemirror_mode": {
    "name": "ipython",
    "version": 3
   },
   "file_extension": ".py",
   "mimetype": "text/x-python",
   "name": "python",
   "nbconvert_exporter": "python",
   "pygments_lexer": "ipython3",
   "version": "3.10.2"
  },
  "orig_nbformat": 4
 },
 "nbformat": 4,
 "nbformat_minor": 2
}
