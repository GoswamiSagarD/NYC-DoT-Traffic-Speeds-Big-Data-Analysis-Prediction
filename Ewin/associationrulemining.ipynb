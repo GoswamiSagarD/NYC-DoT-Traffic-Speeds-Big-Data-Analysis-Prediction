{
 "cells": [
  {
   "cell_type": "code",
   "execution_count": 1,
   "metadata": {},
   "outputs": [],
   "source": [
    "#pip install findspark\n",
    "#/usr/local/opt/apache-spark/libexec/sbin\n",
    "#./start-thriftserver.sh"
   ]
  },
  {
   "cell_type": "code",
   "execution_count": 2,
   "metadata": {},
   "outputs": [],
   "source": [
    "import findspark\n",
    "findspark.init()\n",
    "#findspark.add_packages(\"io.delta:delta-core_2.11:0.1.0\")"
   ]
  },
  {
   "cell_type": "code",
   "execution_count": 3,
   "metadata": {},
   "outputs": [
    {
     "name": "stderr",
     "output_type": "stream",
     "text": [
      "Warning: Ignoring non-Spark config property: hive.server2.thrift.port\n",
      "Using Spark's default log4j profile: org/apache/spark/log4j-defaults.properties\n",
      "Setting default log level to \"WARN\".\n",
      "To adjust logging level use sc.setLogLevel(newLevel). For SparkR, use setLogLevel(newLevel).\n",
      "22/04/14 14:06:59 WARN NativeCodeLoader: Unable to load native-hadoop library for your platform... using builtin-java classes where applicable\n"
     ]
    }
   ],
   "source": [
    "import pyspark\n",
    "from pyspark.sql import SparkSession\n",
    "#from delta import *\n",
    "\n",
    "spark = SparkSession.builder.appName(\"spark\")\\\n",
    ".config('spark.driver.memory', '32g')\\\n",
    ".config(\"hive.server2.thrift.port\", 10000)\\\n",
    ".config(\"spark.sql.hive.thriftServer.singleSession\", True)\\\n",
    ".config(\"spark.driver.maxResultSize\", \"3g\")\\\n",
    ".enableHiveSupport()\\\n",
    ".getOrCreate()\n"
   ]
  },
  {
   "cell_type": "code",
   "execution_count": 4,
   "metadata": {},
   "outputs": [],
   "source": [
    "from pyspark.ml.fpm import FPGrowth"
   ]
  },
  {
   "cell_type": "code",
   "execution_count": 5,
   "metadata": {},
   "outputs": [
    {
     "name": "stderr",
     "output_type": "stream",
     "text": [
      "                                                                                \r"
     ]
    },
    {
     "name": "stdout",
     "output_type": "stream",
     "text": [
      "+---+-----+----------+------+-------------------+-------+--------------------+--------------------+--------------------+--------------------+----------+---------+--------------------+\n",
      "| ID|Speed|TravelTime|Status|           timedate| LinkId|          LinkPoints|   EncodedLinkPoints| EncodedPolyLineLvls|               Owner|TranscomId|  Borough|           Link_Name|\n",
      "+---+-----+----------+------+-------------------+-------+--------------------+--------------------+--------------------+--------------------+----------+---------+--------------------+\n",
      "|330|16.77|       294|     0|2021-12-07 17:58:03|4329507|40.75719,-73.9972...|mkwwFvqsbMsQbh@oI...|                BBBB|  PA -Lincoln Tunnel|   4329507|Manhattan|LINCOLN TUNNEL W ...|\n",
      "|212|45.98|       236|     0|2021-12-07 17:58:03|4362244|40.78802,-73.7900...|cl}wFtbkaMfFiIdBy...|BBBBBBBBBBBBBBBBB...|   NYC-DOT-Region 10|   4362244|   Queens|CVE NB LIE - WILL...|\n",
      "|205|41.63|       384|     0|2021-12-07 17:58:03|4362247|40.78819,-73.7905...|em}wFvekaMwByHaAw...|BBBBBBBBBBBBBBBBB...|   NYC-DOT-Region 10|   4362247|   Queens|    CIP NB GCP - TNB|\n",
      "|318|24.85|       159|     0|2021-12-07 17:58:03|4362249|40.7442206,-73.77...|kztwFzogaMqFeOu@w...|BBBBBBBBBBBBBBBBB...|   NYC-DOT-Region 10|   4362249|   Queens|LIE WB LITTLE NEC...|\n",
      "|211|49.08|       336|     0|2021-12-07 17:58:03|4362250|40.78795,-73.7901...|uk}wFtckaMfH}Kr@c...|BBBBBBBBBBBBBBBBB...|   NYC-DOT-Region 10|   4362250|   Queens|CVE NB GCP - WILL...|\n",
      "|319|27.34|       352|     0|2021-12-07 17:58:03|4362251|40.7537504,-73.74...|}uvwFlebaMkMcUcIk...|      BBBBBBBBBBBBBB|   NYC-DOT-Region 10|   4362251|   Queens|LIE WB LITTLE NEC...|\n",
      "|206|38.52|       306|     0|2021-12-07 17:58:03|4362252|40.7889706,-73.79...|ar}wFzekaMDaEy@kJ...|BBBBBBBBBBBBBBBBB...|   NYC-DOT-Region 10|   4362252|   Queens|CIP N LIE ramp - TNB|\n",
      "|405|40.38|        66|     0|2021-12-07 17:58:03|4362314|40.79782,-73.7933...|ki_xFtwkaMnZH\\\\|B...|    BBBBBBBBBBBBBBBB|         NYC_DOT_LIC|   4362314|   Queens|TNB S Qns Anchora...|\n",
      "|311| 9.32|       509|     0|2021-12-07 17:58:03|4362342|40.72966,-73.8777...|k_rwF\\\\|f\\\\|aMcBg...|          BBBBBBBBBB|         NYC_DOT_LIC|   4362342|   Queens|LIE E 84TH ST - 1...|\n",
      "|140|39.14|        72|     0|2021-12-07 17:58:03|4456479|40.79789,-73.9198...|yi_xFfndbMb@^Xb@T...|     BBBBBBBBBBBBBBB|MTA Bridges & Tun...|   4456479|   Queens|BE S TBB EXIT RAM...|\n",
      "|202|48.46|        45|     0|2021-12-07 17:58:03|4456483|40.789536,-73.786...|qu}wFlkjaMXjGtAzJ...|    BBBBBBBBBBBBBBBB|         NYC_DOT_LIC|   4456483|   Queens|CIP N ramp to TNB...|\n",
      "|168|31.06|       140|     0|2021-12-07 17:58:03|4456496|40.814761,-73.836...|gsbxFfftaMrFQ`BQv...|            BBBBBBBB|         NYC_DOT_LIC|   4456496|    Bronx|BWB S Toll Plaza ...|\n",
      "|124|13.67|       521|     0|2021-12-07 17:58:03|4456501|40.68036,-74.0044...|gkhwFp~tbMoJdGkHn...|          BBBBBBBBBB|MTA Bridges & Tun...|   4456501|Manhattan|BBT W Toll Plaza ...|\n",
      "|119|25.47|       276|     0|2021-12-07 17:58:03|4456502|40.70631,-74.0150...|mmmwFx`wbMxDt@rAb...|       BBBBBBBBBBBBB|MTA Bridges & Tun...|   4456502|Manhattan|BBT E Manhattan P...|\n",
      "|402|43.49|       152|     0|2021-12-07 17:58:03|4456505|40.797815,-73.793...|ii_xFnvkaMiZF}`@h...|     BBBBBBBBBBBBBBB|         NYC_DOT_LIC|   4456505|   Queens|TNB N Queens Anch...|\n",
      "|406|12.42|       532|     0|2021-12-07 17:58:03|4456506|40.81763,-73.8036...|eecxFrwmaMViEx@cJ...|     BBBBBBBBBBBBBBB|         NYC_DOT_LIC|   4456506|   Queens|TNB S Toll Plaza ...|\n",
      "|365|16.15|       332|     0|2021-12-07 17:58:03|4456510|40.741534,-73.954...|qitwFzckbMDhDkEh]...|           BBBBBBBBB|         NYC_DOT_LIC|   4456510|   Queens|QMT W Toll Plaza ...|\n",
      "|364|32.31|       170|     0|2021-12-07 17:58:03|4456511|40.745726,-73.973...|wcuwF\\\\|}nbMTkB?q...|         BBBBBBBBBBB|         NYC_DOT_LIC|   4456511|Manhattan|QMT E Manhattan S...|\n",
      "|265|18.64|       392|     0|2021-12-07 17:58:03|4620298|40.8462505,-73.93...|axhxF~zfbMkCfHeHf...|      BBBBBBBBBBBBBB|         PA-GWBridge|   4620298|Manhattan|GWB E LOWER LEVEL...|\n",
      "|195|18.64|       441|     0|2021-12-07 17:58:03|4620310|40.84653,-73.9320...|yyhxFdzfbM_CvH{G`...|      BBBBBBBBBBBBBB|         PA-GWBridge|   4620310|    Bronx|CBE W U/LEV AMSTE...|\n",
      "+---+-----+----------+------+-------------------+-------+--------------------+--------------------+--------------------+--------------------+----------+---------+--------------------+\n",
      "only showing top 20 rows\n",
      "\n"
     ]
    }
   ],
   "source": [
    "data = spark.read.format('parquet').load(\"/Users/minoseah629/Repos/AIT614Project/ewin/spark-warehouse/ait614projectpermanenttable\")\n",
    "data.createOrReplaceTempView(\"dataset\")\n",
    "spark.sql(\"select * from dataset\").show()"
   ]
  },
  {
   "cell_type": "code",
   "execution_count": 6,
   "metadata": {},
   "outputs": [],
   "source": [
    "columns = 'hour(timedate) `hour`,minute(timedate) `minute`,second(timedate) `second`,weekday(timedate) `weekday`,year(timedate) `year`,month(timedate) `month`,day(timedate) `day`,dayofyear(timedate) as `day_of_year`'"
   ]
  },
  {
   "cell_type": "code",
   "execution_count": 16,
   "metadata": {},
   "outputs": [
    {
     "name": "stderr",
     "output_type": "stream",
     "text": [
      "                                                                                \r"
     ]
    },
    {
     "data": {
      "text/plain": [
       "15840678"
      ]
     },
     "metadata": {},
     "output_type": "display_data"
    }
   ],
   "source": [
    "df3 = spark.sql('SELECT year(timedate) `year`, dayofyear(timedate) as `day_of_year`, hour(timedate) `hour`,minute(timedate) `minute`, LINKID, avg(SPEED) as `speed` FROM dataset GROUP BY year(timedate), dayofyear(timedate), hour(timedate), minute(timedate), LINKID HAVING avg(SPEED) < 20')\n",
    "#select id, linkid,speed, traveltime, owner, borough, '+columns+',count(*) as `count1` from dataset group by id, linkid,speed, traveltime, owner, borough,timedate')\n",
    "display(df3.count())\n"
   ]
  },
  {
   "cell_type": "code",
   "execution_count": 20,
   "metadata": {},
   "outputs": [
    {
     "name": "stderr",
     "output_type": "stream",
     "text": [
      "[Stage 16:>                                                         (0 + 1) / 1]\r"
     ]
    },
    {
     "name": "stdout",
     "output_type": "stream",
     "text": [
      "+-------+--------------------+\n",
      "| LINKID|               items|\n",
      "+-------+--------------------+\n",
      "|4616282|[4616282.0, 0.0, ...|\n",
      "|4456510|[4456510.0, 16.77...|\n",
      "|4616312|[4616312.0, 13.67...|\n",
      "|4616341|[4616341.0, 18.01...|\n",
      "|4616323|[4616323.0, 19.26...|\n",
      "|4616340|[4616340.0, 12.42...|\n",
      "|4616282|[4616282.0, 0.0, ...|\n",
      "|4616298|[4616298.0, 14.29...|\n",
      "|4456502|[4456502.0, 0.0, ...|\n",
      "|4620314|[4620314.0, 19.26...|\n",
      "|4616228|[4616228.0, 0.0, ...|\n",
      "|4456494|[4456494.0, 0.0, ...|\n",
      "|4616324|[4616324.0, 3.1, ...|\n",
      "|4616228|[4616228.0, 0.0, ...|\n",
      "|4620331|[4620331.0, 9.32,...|\n",
      "|4616323|[4616323.0, 18.01...|\n",
      "|4616217|[4616217.0, 0.0, ...|\n",
      "|4616357|[4616357.0, 11.18...|\n",
      "|4616309|[4616309.0, 8.07,...|\n",
      "|4616228|[4616228.0, 0.0, ...|\n",
      "+-------+--------------------+\n",
      "only showing top 20 rows\n",
      "\n"
     ]
    },
    {
     "name": "stderr",
     "output_type": "stream",
     "text": [
      "                                                                                \r"
     ]
    }
   ],
   "source": [
    "from pyspark.sql.window import Window\n",
    "import random \n",
    "from  pyspark.sql.functions import col,array,row_number\n",
    "df4 = df3.select(df3.LINKID, array(df3.LINKID, df3.speed,  df3.year, df3.hour, df3.minute, df3.day_of_year).alias('items'))\n",
    "df4.show()"
   ]
  },
  {
   "cell_type": "code",
   "execution_count": 21,
   "metadata": {},
   "outputs": [],
   "source": [
    "train, test = df4.distinct().randomSplit([0.7,0.3],seed=42)"
   ]
  },
  {
   "cell_type": "code",
   "execution_count": 22,
   "metadata": {},
   "outputs": [
    {
     "name": "stderr",
     "output_type": "stream",
     "text": [
      "[Stage 17:>                                                       (0 + 12) / 12]\r"
     ]
    }
   ],
   "source": [
    "fpGrowth = FPGrowth(itemsCol=\"items\", minSupport=0.5,minConfidence=0.5)\n",
    "model = fpGrowth.fit(train)"
   ]
  },
  {
   "cell_type": "code",
   "execution_count": 14,
   "metadata": {},
   "outputs": [],
   "source": [
    "spark.stop()"
   ]
  }
 ],
 "metadata": {
  "interpreter": {
   "hash": "aee8b7b246df8f9039afb4144a1f6fd8d2ca17a180786b69acc140d282b71a49"
  },
  "kernelspec": {
   "display_name": "PySpark",
   "language": "python",
   "name": "python3"
  },
  "language_info": {
   "codemirror_mode": {
    "name": "ipython",
    "version": 3
   },
   "file_extension": ".py",
   "mimetype": "text/x-python",
   "name": "python",
   "nbconvert_exporter": "python",
   "pygments_lexer": "ipython3",
   "version": "3.10.2"
  },
  "orig_nbformat": 4
 },
 "nbformat": 4,
 "nbformat_minor": 2
}
