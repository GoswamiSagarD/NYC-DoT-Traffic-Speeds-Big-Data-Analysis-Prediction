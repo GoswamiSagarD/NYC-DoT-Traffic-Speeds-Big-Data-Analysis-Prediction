{
 "cells": [
  {
   "cell_type": "code",
   "execution_count": 61,
   "metadata": {},
   "outputs": [],
   "source": [
    "#pip install findspark\n",
    "#/usr/local/opt/apache-spark/libexec/sbin\n",
    "#./start-thriftserver.sh"
   ]
  },
  {
   "cell_type": "code",
   "execution_count": 62,
   "metadata": {},
   "outputs": [],
   "source": [
    "import findspark\n",
    "findspark.init()"
   ]
  },
  {
   "cell_type": "code",
   "execution_count": 1,
   "metadata": {},
   "outputs": [
    {
     "name": "stderr",
     "output_type": "stream",
     "text": [
      "Warning: Ignoring non-Spark config property: hive.server2.thrift.port\n",
      "Using Spark's default log4j profile: org/apache/spark/log4j-defaults.properties\n",
      "Setting default log level to \"WARN\".\n",
      "To adjust logging level use sc.setLogLevel(newLevel). For SparkR, use setLogLevel(newLevel).\n",
      "22/04/16 12:35:52 WARN NativeCodeLoader: Unable to load native-hadoop library for your platform... using builtin-java classes where applicable\n",
      "22/04/16 12:35:52 WARN Utils: Service 'SparkUI' could not bind on port 4040. Attempting port 4041.\n"
     ]
    }
   ],
   "source": [
    "import pyspark\n",
    "from pyspark.sql import SparkSession\n",
    "\n",
    "spark = SparkSession.builder.appName(\"spark\")\\\n",
    ".config('spark.driver.memory', '48g')\\\n",
    ".config(\"hive.server2.thrift.port\", 10000)\\\n",
    ".config(\"spark.sql.hive.thriftServer.singleSession\", True)\\\n",
    ".config(\"spark.driver.maxResultSize\", \"10g\")\\\n",
    ".enableHiveSupport()\\\n",
    ".getOrCreate()\n"
   ]
  },
  {
   "cell_type": "code",
   "execution_count": 64,
   "metadata": {},
   "outputs": [],
   "source": [
    "# from pyspark.sql.types import StructType, StructField\n",
    "# from pyspark.sql.types import DoubleType, IntegerType, StringType,TimestampType\n",
    "# from pyspark.sql.types import DateType\n",
    "# from pyspark.sql.functions import to_timestamp\n",
    "# from pyspark.files import SparkFiles\n",
    "# from pyspark.ml.feature import VectorAssembler\n",
    "# from pyspark.ml.clustering import KMeans\n",
    "# from pyspark.ml.evaluation import ClusteringEvaluator\n",
    "\n",
    "# schema = StructType([\n",
    "#     StructField(\"ID\", IntegerType()),\n",
    "#     StructField(\"Speed\", DoubleType()),\n",
    "#     StructField(\"TravelTime\", IntegerType()),\n",
    "#     StructField(\"Status\", IntegerType()),\n",
    "#     StructField(\"timedate\", StringType()),\n",
    "#     StructField(\"LinkId\", IntegerType()),\n",
    "#     StructField(\"LinkPoints\", StringType()),\n",
    "#     StructField(\"EncodedLinkPoints\", StringType()),\n",
    "#     StructField(\"EncodedPolyLineLvls\", StringType()),\n",
    "#     StructField(\"Owner\", StringType()),\n",
    "#     StructField(\"TranscomId\", IntegerType()),\n",
    "#     StructField(\"Borough\", StringType()),\n",
    "#     StructField(\"Link_Name\", StringType())\n",
    "# ])\n",
    "\n",
    "# #spark.sparkContext.addFile(\"/Users/minoseah629/Repos/AIT614Project/Data_Preparation/Python/Raw_Data/raw.csv\")\n",
    "# #file://Users/minoseah629/Repos/AIT614Project/Data_Preparation/Python/Raw_Data/raw.csv\n",
    "# schema1 = \"ID bigint, Speed float, TravelTime int, Status int, TimeDate string, LinkId int, LinkPoints string, EncodedLinkPoints string, EncodedPolyLineLvls string, Owner string, TranscomId int, Borough string,Link_Name string\"\n",
    "# df2 = spark.read.format('csv').option(\"header\", \"true\").schema(schema).load('/Users/minoseah629/Downloads/DOT_Traffic_Speeds_NBE.csv')\n",
    "# #.csv(SparkFiles.get(\"raw.csv\"), schema=schema,header=True)\n",
    "# df2.printSchema()\n",
    "# # .option(\"inferSchema\", \"true\")"
   ]
  },
  {
   "cell_type": "code",
   "execution_count": 65,
   "metadata": {},
   "outputs": [],
   "source": [
    "# df2 = df2.withColumn(\"timedate\", to_timestamp(\"timedate\", 'MM/dd/yyyy hh:mm:ss a'))\n",
    "# df2.na.drop()\n",
    "# df2.createOrReplaceTempView(\"dataset\")\n",
    "\n",
    "# df2.count()\n",
    "# df2.printSchema()"
   ]
  },
  {
   "cell_type": "code",
   "execution_count": 7,
   "metadata": {},
   "outputs": [],
   "source": [
    "from pyspark.ml.feature import VectorAssembler\n",
    "from pyspark.ml.clustering import KMeans\n",
    "from pyspark.ml.evaluation import ClusteringEvaluator"
   ]
  },
  {
   "cell_type": "code",
   "execution_count": 8,
   "metadata": {},
   "outputs": [
    {
     "name": "stderr",
     "output_type": "stream",
     "text": [
      "                                                                                \r"
     ]
    }
   ],
   "source": [
    "data = spark.read.format('parquet').load(\"/Users/minoseah629/Repos/AIT614Project/ewin/spark-warehouse/ait614projectpermanenttable\")\n",
    "data.createOrReplaceTempView(\"dataset\")"
   ]
  },
  {
   "cell_type": "code",
   "execution_count": 9,
   "metadata": {},
   "outputs": [],
   "source": [
    "columns = 'hour(timedate) `hour`,minute(timedate) `minute`,weekday(timedate) `weekday`,year(timedate) `year`,month(timedate) `month`,day(timedate) `day`,dayofyear(timedate) as `day_of_year`'"
   ]
  },
  {
   "cell_type": "code",
   "execution_count": 12,
   "metadata": {},
   "outputs": [],
   "source": [
    "df3 = spark.sql('select id, speed, traveltime, '+columns+' from dataset')"
   ]
  },
  {
   "cell_type": "code",
   "execution_count": 10,
   "metadata": {},
   "outputs": [],
   "source": [
    "assemble = VectorAssembler(inputCols=[\n",
    "    'speed',\n",
    "    'traveltime',\n",
    "    'hour',\n",
    "    'minute',\n",
    "    'weekday',\n",
    "    'year',\n",
    "    'month',\n",
    "    'day',\n",
    "    'day_of_year'], outputCol='features')"
   ]
  },
  {
   "cell_type": "code",
   "execution_count": 13,
   "metadata": {},
   "outputs": [],
   "source": [
    "assembled_data = assemble.transform(df3)\n"
   ]
  },
  {
   "cell_type": "code",
   "execution_count": 72,
   "metadata": {},
   "outputs": [
    {
     "name": "stdout",
     "output_type": "stream",
     "text": [
      "+---+-----+----------+----+------+-------+----+-----+---+-----------+--------------------+\n",
      "| id|speed|traveltime|hour|minute|weekday|year|month|day|day_of_year|            features|\n",
      "+---+-----+----------+----+------+-------+----+-----+---+-----------+--------------------+\n",
      "|330|16.77|       294|  17|    58|      1|2021|   12|  7|        341|[16.77,294.0,17.0...|\n",
      "|212|45.98|       236|  17|    58|      1|2021|   12|  7|        341|[45.98,236.0,17.0...|\n",
      "+---+-----+----------+----+------+-------+----+-----+---+-----------+--------------------+\n",
      "only showing top 2 rows\n",
      "\n"
     ]
    }
   ],
   "source": [
    "assembled_data.show(2)"
   ]
  },
  {
   "cell_type": "code",
   "execution_count": 14,
   "metadata": {},
   "outputs": [
    {
     "name": "stderr",
     "output_type": "stream",
     "text": [
      "                                                                                \r"
     ]
    },
    {
     "name": "stdout",
     "output_type": "stream",
     "text": [
      "+---+-----+----------+----+------+-------+----+-----+---+-----------+--------------------+--------------------+\n",
      "| id|speed|traveltime|hour|minute|weekday|year|month|day|day_of_year|            features|        standardized|\n",
      "+---+-----+----------+----+------+-------+----+-----+---+-----------+--------------------+--------------------+\n",
      "|330|16.77|       294|  17|    58|      1|2021|   12|  7|        341|[16.77,294.0,17.0...|[0.84562176951510...|\n",
      "|212|45.98|       236|  17|    58|      1|2021|   12|  7|        341|[45.98,236.0,17.0...|[2.31852647360194...|\n",
      "+---+-----+----------+----+------+-------+----+-----+---+-----------+--------------------+--------------------+\n",
      "only showing top 2 rows\n",
      "\n"
     ]
    }
   ],
   "source": [
    "from pyspark.ml.feature import StandardScaler\n",
    "scale=StandardScaler(inputCol='features',outputCol='standardized')\n",
    "data_scale=scale.fit(assembled_data)\n",
    "data_scale_output=data_scale.transform(assembled_data)\n",
    "data_scale_output.show(2)"
   ]
  },
  {
   "cell_type": "code",
   "execution_count": 15,
   "metadata": {},
   "outputs": [],
   "source": [
    "silhouette_score=[]\n",
    "evaluator = ClusteringEvaluator(predictionCol='prediction', featuresCol='standardized', \\\n",
    "                                metricName='silhouette', distanceMeasure='squaredEuclidean')"
   ]
  },
  {
   "cell_type": "code",
   "execution_count": null,
   "metadata": {},
   "outputs": [],
   "source": [
    "# permanent_table_name = 'kmeans'\n",
    "# for i in range(2,10):    \n",
    "#     KMeans_algo=KMeans(featuresCol='standardized', k=i)\n",
    "#     KMeans_fit=KMeans_algo.fit(data_scale_output)    \n",
    "#     output=KMeans_fit.transform(data_scale_output)\n",
    "#     output.write.format(\"parquet\").saveAsTable(permanent_table_name+str(i))\n",
    "#     #score=evaluator.evaluate(output)\n",
    "#     #silhouette_score.append(score)\n",
    "#     #print(\"Silhouette Score:\",score)"
   ]
  },
  {
   "cell_type": "code",
   "execution_count": null,
   "metadata": {},
   "outputs": [
    {
     "name": "stderr",
     "output_type": "stream",
     "text": [
      "                                                                                \r"
     ]
    },
    {
     "name": "stdout",
     "output_type": "stream",
     "text": [
      "Silhouette Score: 0.2888635315464123\n"
     ]
    },
    {
     "name": "stderr",
     "output_type": "stream",
     "text": [
      "                                                                                \r"
     ]
    },
    {
     "name": "stdout",
     "output_type": "stream",
     "text": [
      "Silhouette Score: 0.20198519851171706\n"
     ]
    },
    {
     "name": "stderr",
     "output_type": "stream",
     "text": [
      "                                                                                \r"
     ]
    },
    {
     "name": "stdout",
     "output_type": "stream",
     "text": [
      "Silhouette Score: 0.15747950772325925\n"
     ]
    },
    {
     "name": "stderr",
     "output_type": "stream",
     "text": [
      "                                                                                \r"
     ]
    },
    {
     "name": "stdout",
     "output_type": "stream",
     "text": [
      "Silhouette Score: 0.1566023749991986\n"
     ]
    },
    {
     "name": "stderr",
     "output_type": "stream",
     "text": [
      "                                                                                \r"
     ]
    },
    {
     "name": "stdout",
     "output_type": "stream",
     "text": [
      "Silhouette Score: 0.18076474118016772\n"
     ]
    },
    {
     "name": "stderr",
     "output_type": "stream",
     "text": [
      "                                                                                \r"
     ]
    },
    {
     "name": "stdout",
     "output_type": "stream",
     "text": [
      "Silhouette Score: 0.1729575289123795\n"
     ]
    },
    {
     "name": "stderr",
     "output_type": "stream",
     "text": [
      "                                                                                \r"
     ]
    },
    {
     "name": "stdout",
     "output_type": "stream",
     "text": [
      "Silhouette Score: 0.17353065883484703\n"
     ]
    },
    {
     "name": "stderr",
     "output_type": "stream",
     "text": [
      "[Stage 51:==============================================>         (10 + 2) / 12]\r"
     ]
    },
    {
     "name": "stdout",
     "output_type": "stream",
     "text": [
      "Silhouette Score: 0.17722725698699374\n"
     ]
    },
    {
     "name": "stderr",
     "output_type": "stream",
     "text": [
      "                                                                                \r"
     ]
    }
   ],
   "source": [
    "permanent_table_name = 'kmeans'\n",
    "for i in range(2,10):\n",
    "    output=spark.read.format(\"parquet\").load('/Users/minoseah629/Repos/AIT614Project/ewin/spark-warehouse/kmeans'+str(i))\n",
    "    score=evaluator.evaluate(output)\n",
    "    silhouette_score.append(score)\n",
    "    print(\"Silhouette Score:\",score)"
   ]
  },
  {
   "cell_type": "code",
   "execution_count": null,
   "metadata": {},
   "outputs": [
    {
     "data": {
      "text/plain": [
       "Text(0, 0.5, 'cost')"
      ]
     },
     "execution_count": 12,
     "metadata": {},
     "output_type": "execute_result"
    },
    {
     "data": {
      "image/png": "[encoded data removed]",
      "text/plain": [
       "<Figure size 576x432 with 1 Axes>"
      ]
     },
     "metadata": {
      "needs_background": "light"
     },
     "output_type": "display_data"
    }
   ],
   "source": [
    "#Visualizing the silhouette scores in a plot\n",
    "import matplotlib.pyplot as plt\n",
    "fig, ax = plt.subplots(1,1, figsize =(8,6))\n",
    "ax.plot(range(2,10),silhouette_score)\n",
    "ax.set_xlabel('k')\n",
    "ax.set_ylabel('cost')"
   ]
  },
  {
   "cell_type": "code",
   "execution_count": 16,
   "metadata": {},
   "outputs": [
    {
     "name": "stderr",
     "output_type": "stream",
     "text": [
      "22/04/15 21:40:35 WARN InstanceBuilder$NativeBLAS: Failed to load implementation from:dev.ludovic.netlib.blas.JNIBLAS\n",
      "22/04/15 21:40:35 WARN InstanceBuilder$NativeBLAS: Failed to load implementation from:dev.ludovic.netlib.blas.ForeignLinkerBLAS\n",
      "22/04/15 21:41:01 WARN LAPACK: Failed to load implementation from: com.github.fommil.netlib.NativeSystemLAPACK\n",
      "22/04/15 21:41:01 WARN LAPACK: Failed to load implementation from: com.github.fommil.netlib.NativeRefLAPACK\n"
     ]
    }
   ],
   "source": [
    "from pyspark.ml.feature import PCA as PCAml\n",
    "pca = PCAml(k=3, inputCol=\"features\", outputCol=\"pca\")\n",
    "pca_model = pca.fit(assembled_data)\n",
    "pca_transformed = pca_model.transform(assembled_data)"
   ]
  },
  {
   "cell_type": "code",
   "execution_count": null,
   "metadata": {},
   "outputs": [],
   "source": [
    "# pca_transformed.write.format('parquet').saveAsTable('pca_transformed')"
   ]
  },
  {
   "cell_type": "code",
   "execution_count": 2,
   "metadata": {},
   "outputs": [
    {
     "name": "stderr",
     "output_type": "stream",
     "text": [
      "                                                                                \r"
     ]
    }
   ],
   "source": [
    "pca_transformed = spark.read.format('parquet').load(\"/Users/minoseah629/Repos/AIT614Project/ewin/spark-warehouse/pca_transformed\")"
   ]
  },
  {
   "cell_type": "code",
   "execution_count": null,
   "metadata": {},
   "outputs": [
    {
     "name": "stdout",
     "output_type": "stream",
     "text": [
      "+---+-----+----------+----+------+-------+----+-----+---+-----------+--------------------+--------------------+\n",
      "| id|speed|traveltime|hour|minute|weekday|year|month|day|day_of_year|            features|                 pca|\n",
      "+---+-----+----------+----+------+-------+----+-----+---+-----------+--------------------+--------------------+\n",
      "|330|16.77|       294|  17|    58|      1|2021|   12|  7|        341|[16.77,294.0,17.0...|[294.312407798787...|\n",
      "|212|45.98|       236|  17|    58|      1|2021|   12|  7|        341|[45.98,236.0,17.0...|[236.214217963330...|\n",
      "|205|41.63|       384|  17|    58|      1|2021|   12|  7|        341|[41.63,384.0,17.0...|[384.227980960702...|\n",
      "|318|24.85|       159|  17|    58|      1|2021|   12|  7|        341|[24.85,159.0,17.0...|[159.285980485947...|\n",
      "|211|49.08|       336|  17|    58|      1|2021|   12|  7|        341|[49.08,336.0,17.0...|[336.203142500475...|\n",
      "|319|27.34|       352|  17|    58|      1|2021|   12|  7|        341|[27.34,352.0,17.0...|[352.276389392382...|\n",
      "|206|38.52|       306|  17|    58|      1|2021|   12|  7|        341|[38.52,306.0,17.0...|[306.238954464850...|\n",
      "|405|40.38|        66|  17|    58|      1|2021|   12|  7|        341|[40.38,66.0,17.0,...|[66.2341595915559...|\n",
      "|311| 9.32|       509|  17|    58|      1|2021|   12|  7|        341|[9.32,509.0,17.0,...|[509.336216200554...|\n",
      "|140|39.14|        72|  17|    58|      1|2021|   12|  7|        341|[39.14,72.0,17.0,...|[72.2383060480203...|\n",
      "|202|48.46|        45|  17|    58|      1|2021|   12|  7|        341|[48.46,45.0,17.0,...|[45.2070291250377...|\n",
      "|168|31.06|       140|  17|    58|      1|2021|   12|  7|        341|[31.06,140.0,17.0...|[140.265146617846...|\n",
      "|124|13.67|       521|  17|    58|      1|2021|   12|  7|        341|[13.67,521.0,17.0...|[521.321466320825...|\n",
      "|119|25.47|       276|  17|    58|      1|2021|   12|  7|        341|[25.47,276.0,17.0...|[276.283167095948...|\n",
      "|402|43.49|       152|  17|    58|      1|2021|   12|  7|        341|[43.49,152.0,17.0...|[152.223136743290...|\n",
      "|406|12.42|       532|  17|    58|      1|2021|   12|  7|        341|[12.42,532.0,17.0...|[532.325615674834...|\n",
      "|365|16.15|       332|  17|    58|      1|2021|   12|  7|        341|[16.15,332.0,17.0...|[332.314265146503...|\n",
      "|364|32.31|       170|  17|    58|      1|2021|   12|  7|        341|[32.31,170.0,17.0...|[170.260744375234...|\n",
      "|265|18.64|       392|  17|    58|      1|2021|   12|  7|        341|[18.64,392.0,17.0...|[392.305494398897...|\n",
      "|195|18.64|       441|  17|    58|      1|2021|   12|  7|        341|[18.64,441.0,17.0...|[441.305192166175...|\n",
      "+---+-----+----------+----+------+-------+----+-----+---+-----------+--------------------+--------------------+\n",
      "only showing top 20 rows\n",
      "\n"
     ]
    }
   ],
   "source": [
    "pca_transformed.show()"
   ]
  },
  {
   "cell_type": "code",
   "execution_count": 3,
   "metadata": {},
   "outputs": [],
   "source": [
    "output=spark.read.format(\"parquet\").load('/Users/minoseah629/Repos/AIT614Project/ewin/spark-warehouse/kmeans3')"
   ]
  },
  {
   "cell_type": "code",
   "execution_count": 4,
   "metadata": {},
   "outputs": [],
   "source": [
    "from pyspark.sql.window import Window\n",
    "from pyspark.sql.functions import row_number\n",
    "\n",
    "windowSpec =Window.partitionBy(\"id\").orderBy(\"year\",\"month\",\"day\",\"hour\",\"minute\")"
   ]
  },
  {
   "cell_type": "code",
   "execution_count": 5,
   "metadata": {},
   "outputs": [],
   "source": [
    "output.filter(output.year > 2017).withColumn(\"row_number\",row_number().over(windowSpec)).createOrReplaceTempView('kmeans3')\n"
   ]
  },
  {
   "cell_type": "code",
   "execution_count": 6,
   "metadata": {},
   "outputs": [],
   "source": [
    "pca_transformed.filter(pca_transformed.year > 2017).withColumn(\"row_number\",row_number().over(windowSpec)).createOrReplaceTempView('pca')"
   ]
  },
  {
   "cell_type": "code",
   "execution_count": 19,
   "metadata": {},
   "outputs": [
    {
     "name": "stderr",
     "output_type": "stream",
     "text": [
      "[Stage 14:>                                                         (0 + 1) / 1]\r"
     ]
    },
    {
     "name": "stdout",
     "output_type": "stream",
     "text": [
      "+---+-----+----------+----+------+-------+----+-----+---+-----------+--------------------+--------------------+----------+----------+\n",
      "| id|speed|traveltime|hour|minute|weekday|year|month|day|day_of_year|            features|        standardized|prediction|row_number|\n",
      "+---+-----+----------+----+------+-------+----+-----+---+-----------+--------------------+--------------------+----------+----------+\n",
      "|137|53.43|        83|   0|     2|      0|2018|    1|  1|          1|[53.43,83.0,0.0,2...|[2.69419028892022...|         1|         1|\n",
      "|137|57.78|        77|   0|     7|      0|2018|    1|  1|          1|[57.78,77.0,0.0,7...|[2.91353761732754...|         1|         2|\n",
      "|137|57.16|        77|   0|    12|      0|2018|    1|  1|          1|[57.16,77.0,0.0,1...|[2.88227431994534...|         1|         3|\n",
      "|137|54.05|        82|   0|    17|      0|2018|    1|  1|          1|[54.05,82.0,0.0,1...|[2.72545358630241...|         1|         4|\n",
      "|137|57.16|        77|   0|    22|      0|2018|    1|  1|          1|[57.16,77.0,0.0,2...|[2.88227431994534...|         1|         5|\n",
      "|137|53.43|        83|   0|    27|      0|2018|    1|  1|          1|[53.43,83.0,0.0,2...|[2.69419028892022...|         1|         6|\n",
      "|137|41.63|       107|   0|    32|      0|2018|    1|  1|          1|[41.63,107.0,0.0,...|[2.09917914519462...|         1|         7|\n",
      "|137|50.95|        87|   0|    37|      0|2018|    1|  1|          1|[50.95,87.0,0.0,3...|[2.56913709939145...|         1|         8|\n",
      "|137|54.68|        81|   0|    42|      0|2018|    1|  1|          1|[54.68,81.0,0.0,4...|[2.75722113041657...|         1|         9|\n",
      "|137|54.68|        81|   0|    47|      0|2018|    1|  1|          1|[54.68,81.0,0.0,4...|[2.75722113041657...|         1|        10|\n",
      "|137|54.05|        82|   0|    52|      0|2018|    1|  1|          1|[54.05,82.0,0.0,5...|[2.72545358630241...|         1|        11|\n",
      "|137| 55.3|        80|   0|    57|      0|2018|    1|  1|          1|[55.3,80.0,0.0,57...|[2.78848442779877...|         1|        12|\n",
      "|137|50.33|        88|   1|     2|      0|2018|    1|  1|          1|[50.33,88.0,1.0,2...|[2.53787380200926...|         1|        13|\n",
      "|137|47.22|        94|   1|     7|      0|2018|    1|  1|          1|[47.22,94.0,1.0,7...|[2.38105306836632...|         1|        14|\n",
      "|137|53.43|        83|   1|    12|      0|2018|    1|  1|          1|[53.43,83.0,1.0,1...|[2.69419028892022...|         1|        15|\n",
      "|137|56.54|        79|   1|    17|      0|2018|    1|  1|          1|[56.54,79.0,1.0,1...|[2.85101102256315...|         1|        16|\n",
      "|137|54.05|        82|   1|    22|      0|2018|    1|  1|          1|[54.05,82.0,1.0,2...|[2.72545358630241...|         1|        17|\n",
      "|137|54.68|        81|   1|    27|      0|2018|    1|  1|          1|[54.68,81.0,1.0,2...|[2.75722113041657...|         1|        18|\n",
      "|137|56.54|        79|   1|    32|      0|2018|    1|  1|          1|[56.54,79.0,1.0,3...|[2.85101102256315...|         1|        19|\n",
      "|137|50.95|        87|   1|    37|      0|2018|    1|  1|          1|[50.95,87.0,1.0,3...|[2.56913709939145...|         1|        20|\n",
      "+---+-----+----------+----+------+-------+----+-----+---+-----------+--------------------+--------------------+----------+----------+\n",
      "only showing top 20 rows\n",
      "\n"
     ]
    },
    {
     "name": "stderr",
     "output_type": "stream",
     "text": [
      "                                                                                \r"
     ]
    }
   ],
   "source": [
    "spark.sql('select * from kmeans3').show()"
   ]
  },
  {
   "cell_type": "code",
   "execution_count": 20,
   "metadata": {},
   "outputs": [
    {
     "name": "stderr",
     "output_type": "stream",
     "text": [
      "[Stage 15:======================================>                  (8 + 4) / 12]\r"
     ]
    },
    {
     "name": "stdout",
     "output_type": "stream",
     "text": [
      "+---+-----+----------+----+------+-------+----+-----+---+-----------+--------------------+--------------------+----------+\n",
      "| id|speed|traveltime|hour|minute|weekday|year|month|day|day_of_year|            features|                 pca|row_number|\n",
      "+---+-----+----------+----+------+-------+----+-----+---+-----------+--------------------+--------------------+----------+\n",
      "|137|53.43|        83|   0|     2|      0|2018|    1|  1|          1|[53.43,83.0,0.0,2...|[82.8615606841881...|         1|\n",
      "|137|57.78|        77|   0|     7|      0|2018|    1|  1|          1|[57.78,77.0,0.0,7...|[76.8469150766779...|         2|\n",
      "|137|57.16|        77|   0|    12|      0|2018|    1|  1|          1|[57.16,77.0,0.0,1...|[76.8490000569077...|         3|\n",
      "|137|54.05|        82|   0|    17|      0|2018|    1|  1|          1|[54.05,82.0,0.0,1...|[81.8594548637867...|         4|\n",
      "|137|57.16|        77|   0|    22|      0|2018|    1|  1|          1|[57.16,77.0,0.0,2...|[76.8489865528146...|         5|\n",
      "|137|53.43|        83|   0|    27|      0|2018|    1|  1|          1|[53.43,83.0,0.0,2...|[82.8615269239552...|         6|\n",
      "|137|41.63|       107|   0|    32|      0|2018|    1|  1|          1|[41.63,107.0,0.0,...|[106.901182528040...|         7|\n",
      "|137|50.95|        87|   0|    37|      0|2018|    1|  1|          1|[50.95,87.0,0.0,3...|[86.8698556769086...|         8|\n",
      "|137|54.68|        81|   0|    42|      0|2018|    1|  1|          1|[54.68,81.0,0.0,4...|[80.8573018016748...|         9|\n",
      "|137|54.68|        81|   0|    47|      0|2018|    1|  1|          1|[54.68,81.0,0.0,4...|[80.8572950496282...|        10|\n",
      "|137|54.05|        82|   0|    52|      0|2018|    1|  1|          1|[54.05,82.0,0.0,5...|[81.8594075994606...|        11|\n",
      "|137| 55.3|        80|   0|    57|      0|2018|    1|  1|          1|[55.3,80.0,0.0,57...|[79.8551959812734...|        12|\n",
      "|137|50.33|        88|   1|     2|      0|2018|    1|  1|          1|[50.33,88.0,1.0,2...|[87.8721879104778...|        13|\n",
      "|137|47.22|        94|   1|     7|      0|2018|    1|  1|          1|[47.22,94.0,1.0,7...|[93.8826365493421...|        14|\n",
      "|137|53.43|        83|   1|    12|      0|2018|    1|  1|          1|[53.43,83.0,1.0,1...|[82.8617465850764...|        15|\n",
      "|137|56.54|        79|   1|    17|      0|2018|    1|  1|          1|[56.54,79.0,1.0,1...|[78.8512721060896...|        16|\n",
      "|137|54.05|        82|   1|    22|      0|2018|    1|  1|          1|[54.05,82.0,1.0,2...|[81.8596475167216...|        17|\n",
      "|137|54.68|        81|   1|    27|      0|2018|    1|  1|          1|[54.68,81.0,1.0,2...|[80.8575214627960...|        18|\n",
      "|137|56.54|        79|   1|    32|      0|2018|    1|  1|          1|[56.54,79.0,1.0,3...|[78.8512518499498...|        19|\n",
      "|137|50.95|        87|   1|    37|      0|2018|    1|  1|          1|[50.95,87.0,1.0,3...|[86.8700550818901...|        20|\n",
      "+---+-----+----------+----+------+-------+----+-----+---+-----------+--------------------+--------------------+----------+\n",
      "only showing top 20 rows\n",
      "\n"
     ]
    },
    {
     "name": "stderr",
     "output_type": "stream",
     "text": [
      "                                                                                \r"
     ]
    }
   ],
   "source": [
    "spark.sql('select * from pca').show()"
   ]
  },
  {
   "cell_type": "code",
   "execution_count": 7,
   "metadata": {},
   "outputs": [],
   "source": [
    "pca = spark.sql('select prediction, pca.pca from kmeans3 inner join pca on pca.row_number = kmeans3.row_number')\n",
    "schema = pca.schema\n",
    "#pca.write.format('parquet').mode('overwrite').saveAsTable('x_pca')"
   ]
  },
  {
   "cell_type": "code",
   "execution_count": 36,
   "metadata": {},
   "outputs": [],
   "source": [
    "# schema = StructType([    \n",
    "#     StructField(\"prediction\",IntegerType(),True),\n",
    "#     StructField(\"pca\",\n",
    "#         ArrayType(\n",
    "#             StructType(\n",
    "#             [\n",
    "#                 StructField(\"pca1\", DoubleType(),False),\n",
    "#                 StructField(\"pca2\", DoubleType(),False),\n",
    "#                 StructField(\"pca3\", DoubleType(),False)\n",
    "#             ]\n",
    "#             )\n",
    "#         ,False)\n",
    "#     ,False)\n",
    "# ])"
   ]
  },
  {
   "cell_type": "markdown",
   "metadata": {},
   "source": [
    "pca"
   ]
  },
  {
   "cell_type": "code",
   "execution_count": 44,
   "metadata": {},
   "outputs": [],
   "source": [
    "# from pyspark.sql.types import *\n",
    "# from pyspark.sql.types import StructType, StructField\n",
    "# from pyspark.sql.types import DoubleType, IntegerType, StringType,TimestampType\n",
    "# from pyspark.sql.types import ArrayType\n",
    "\n",
    "# from pyspark.ml.linalg import VectorUDT\n",
    "\n",
    "# pca=spark.read.format(\"parquet\").schema(schema).load('/Users/minoseah629/Repos/AIT614Project/ewin/spark-warehouse/x_pca')"
   ]
  },
  {
   "cell_type": "code",
   "execution_count": 30,
   "metadata": {},
   "outputs": [
    {
     "name": "stderr",
     "output_type": "stream",
     "text": [
      "                                                                                \r"
     ]
    },
    {
     "data": {
      "text/plain": [
       "Row(prediction=1, pca=DenseVector([78.8535, -5.86, 65.141]))"
      ]
     },
     "execution_count": 30,
     "metadata": {},
     "output_type": "execute_result"
    }
   ],
   "source": [
    "pca.first()"
   ]
  },
  {
   "cell_type": "code",
   "execution_count": 14,
   "metadata": {},
   "outputs": [],
   "source": [
    "windowSpec1 =Window.partitionBy(\"prediction\").orderBy(\"prediction\")\n",
    "list = pca.withColumn(\"row_number\",row_number().over(windowSpec1))"
   ]
  },
  {
   "cell_type": "code",
   "execution_count": null,
   "metadata": {},
   "outputs": [],
   "source": [
    "# import numpy as np\n",
    "\n",
    "# pca.write.format('parquet').saveAsTable('x_pca')\n"
   ]
  },
  {
   "cell_type": "code",
   "execution_count": 22,
   "metadata": {},
   "outputs": [
    {
     "name": "stderr",
     "output_type": "stream",
     "text": [
      "                                                                                \r"
     ]
    },
    {
     "data": {
      "text/plain": [
       "Row(prediction=1, pca=DenseVector([78.8535, -5.86, 65.141]))"
      ]
     },
     "execution_count": 22,
     "metadata": {},
     "output_type": "execute_result"
    }
   ],
   "source": [
    "pca.head()\n"
   ]
  },
  {
   "cell_type": "code",
   "execution_count": 23,
   "metadata": {},
   "outputs": [
    {
     "name": "stderr",
     "output_type": "stream",
     "text": [
      "                                                                                \r"
     ]
    }
   ],
   "source": [
    "#cluster_assignment = output.rdd.map(lambda row: row.prediction).collect()"
   ]
  },
  {
   "cell_type": "code",
   "execution_count": 17,
   "metadata": {},
   "outputs": [],
   "source": [
    "# import seaborn as sns\n",
    "# import matplotlib.pylab as plt\n",
    "\n",
    "# pca_data = np.hstack((x_pca, np.array(cluster_assignment)))"
   ]
  },
  {
   "cell_type": "code",
   "execution_count": 30,
   "metadata": {},
   "outputs": [
    {
     "data": {
      "text/plain": [
       "array(['pca', '2', '2', ..., '2', '2', '2'], dtype='<U21')"
      ]
     },
     "metadata": {},
     "output_type": "display_data"
    }
   ],
   "source": [
    "# display(pca_data)"
   ]
  },
  {
   "cell_type": "code",
   "execution_count": 37,
   "metadata": {},
   "outputs": [
    {
     "name": "stderr",
     "output_type": "stream",
     "text": [
      "                                                                                \r"
     ]
    }
   ],
   "source": [
    "# list = output1.rdd.map(lambda row: row.prediction).filter(lambda x : x ==2).collect()\n",
    "#assignments= spark.createDataFrame(list)\n"
   ]
  },
  {
   "cell_type": "code",
   "execution_count": 38,
   "metadata": {},
   "outputs": [
    {
     "data": {
      "text/plain": [
       "27200620"
      ]
     },
     "metadata": {},
     "output_type": "display_data"
    }
   ],
   "source": [
    "# display(len(list))"
   ]
  },
  {
   "cell_type": "code",
   "execution_count": 25,
   "metadata": {},
   "outputs": [],
   "source": [
    "# import pandas as pd\n",
    "# pdf = pd.array(list)"
   ]
  },
  {
   "cell_type": "code",
   "execution_count": null,
   "metadata": {},
   "outputs": [],
   "source": []
  },
  {
   "cell_type": "code",
   "execution_count": null,
   "metadata": {},
   "outputs": [],
   "source": [
    "# import pandas as pd\n",
    "# pca_df = pd.DataFrame(data=pca_data, columns=(\"1st_principal\", \"2nd_principal\",\"cluster_assignment\"))\n"
   ]
  },
  {
   "cell_type": "code",
   "execution_count": 11,
   "metadata": {},
   "outputs": [
    {
     "ename": "NameError",
     "evalue": "name 'plt' is not defined",
     "output_type": "error",
     "traceback": [
      "\u001b[0;31m---------------------------------------------------------------------------\u001b[0m",
      "\u001b[0;31mNameError\u001b[0m                                 Traceback (most recent call last)",
      "\u001b[1;32m/Users/minoseah629/Repos/AIT614Project/ewin/kmeans.ipynb Cell 39'\u001b[0m in \u001b[0;36m<cell line: 3>\u001b[0;34m()\u001b[0m\n\u001b[1;32m      <a href='vscode-notebook-cell:/Users/minoseah629/Repos/AIT614Project/ewin/kmeans.ipynb#ch0000036?line=0'>1</a>\u001b[0m \u001b[39m# sns.FacetGrid(pca_df,hue=\"cluster_assignment\", height=6).map(plt.scatter, '1st_principal', '2nd_principal' ).add_legend()\u001b[39;00m\n\u001b[0;32m----> <a href='vscode-notebook-cell:/Users/minoseah629/Repos/AIT614Project/ewin/kmeans.ipynb#ch0000036?line=2'>3</a>\u001b[0m plt\u001b[39m.\u001b[39mshow()\n",
      "\u001b[0;31mNameError\u001b[0m: name 'plt' is not defined"
     ]
    }
   ],
   "source": [
    "# sns.FacetGrid(pca_df,hue=\"cluster_assignment\", height=6).map(plt.scatter, '1st_principal', '2nd_principal' ).add_legend()\n",
    "\n",
    "plt.show()"
   ]
  },
  {
   "cell_type": "code",
   "execution_count": null,
   "metadata": {},
   "outputs": [
    {
     "name": "stderr",
     "output_type": "stream",
     "text": [
      "[Stage 476:(0 + 12) / 144][Stage 478:>  (0 + 0) / 1][Stage 479:>(0 + 0) / 144]\r"
     ]
    }
   ],
   "source": [
    "display(x_pca.first().pca)"
   ]
  },
  {
   "cell_type": "code",
   "execution_count": 42,
   "metadata": {},
   "outputs": [
    {
     "ename": "AttributeError",
     "evalue": "'NoneType' object has no attribute 'show'",
     "output_type": "error",
     "traceback": [
      "\u001b[0;31m---------------------------------------------------------------------------\u001b[0m",
      "\u001b[0;31mAttributeError\u001b[0m                            Traceback (most recent call last)",
      "\u001b[1;32m/Users/minoseah629/Repos/AIT614Project/ewin/kmeans.ipynb Cell 43'\u001b[0m in \u001b[0;36m<cell line: 1>\u001b[0;34m()\u001b[0m\n\u001b[0;32m----> <a href='vscode-notebook-cell:/Users/minoseah629/Repos/AIT614Project/ewin/kmeans.ipynb#ch0000046?line=0'>1</a>\u001b[0m pca\u001b[39m.\u001b[39;49mshow()\n",
      "\u001b[0;31mAttributeError\u001b[0m: 'NoneType' object has no attribute 'show'"
     ]
    }
   ],
   "source": [
    "pca.show()"
   ]
  },
  {
   "cell_type": "code",
   "execution_count": 48,
   "metadata": {},
   "outputs": [
    {
     "data": {
      "text/plain": [
       "DataFrame[pca: vector]"
      ]
     },
     "metadata": {},
     "output_type": "display_data"
    },
    {
     "name": "stderr",
     "output_type": "stream",
     "text": [
      "[Stage 118:=====================================================> (32 + 1) / 33]\r"
     ]
    },
    {
     "name": "stdout",
     "output_type": "stream",
     "text": [
      "+--------------------+\n",
      "|                 pca|\n",
      "+--------------------+\n",
      "|[78.8535429872077...|\n",
      "|[773.240015078296...|\n",
      "|[0.04269101665262...|\n",
      "|[115.851223038386...|\n",
      "|[133.880463741225...|\n",
      "|[129.846953221627...|\n",
      "|[310.862604406790...|\n",
      "|[26.8664478552491...|\n",
      "|[78.8220995278275...|\n",
      "|[90.8367013752027...|\n",
      "|[167.857177498449...|\n",
      "|[115.838638907110...|\n",
      "|[129.863720817455...|\n",
      "|[46.8893672876119...|\n",
      "|[90.9457076168953...|\n",
      "|[0.04269101665262...|\n",
      "|[0.04269101665262...|\n",
      "|[49.8495383950821...|\n",
      "|[84.8576894436721...|\n",
      "|[1249.26224736583...|\n",
      "+--------------------+\n",
      "only showing top 20 rows\n",
      "\n"
     ]
    },
    {
     "name": "stderr",
     "output_type": "stream",
     "text": [
      "                                                                                \r"
     ]
    }
   ],
   "source": [
    "pca1 = pca.select(\"pca\")\n",
    "display(pca1)\n"
   ]
  },
  {
   "cell_type": "code",
   "execution_count": 50,
   "metadata": {},
   "outputs": [
    {
     "name": "stderr",
     "output_type": "stream",
     "text": [
      "                                                                                \r"
     ]
    },
    {
     "data": {
      "text/plain": [
       "65.14100179390937"
      ]
     },
     "execution_count": 50,
     "metadata": {},
     "output_type": "execute_result"
    }
   ],
   "source": [
    "pca1.first()[0][2]"
   ]
  },
  {
   "cell_type": "code",
   "execution_count": 58,
   "metadata": {},
   "outputs": [],
   "source": [
    "windowSpec1 =Window.partitionBy(\"prediction\").orderBy(\"prediction\")"
   ]
  },
  {
   "cell_type": "code",
   "execution_count": null,
   "metadata": {},
   "outputs": [],
   "source": [
    "pcadict = pca.withColumn(\"row_number\",row_number().over(windowSpec1))\n",
    "display(pcadict)"
   ]
  },
  {
   "cell_type": "code",
   "execution_count": 9,
   "metadata": {},
   "outputs": [
    {
     "name": "stderr",
     "output_type": "stream",
     "text": [
      "                                                                                \r"
     ]
    },
    {
     "data": {
      "text/plain": [
       "1"
      ]
     },
     "execution_count": 9,
     "metadata": {},
     "output_type": "execute_result"
    }
   ],
   "source": []
  },
  {
   "cell_type": "code",
   "execution_count": null,
   "metadata": {},
   "outputs": [],
   "source": [
    "list.show()"
   ]
  },
  {
   "cell_type": "code",
   "execution_count": null,
   "metadata": {},
   "outputs": [],
   "source": [
    "list = pca.collect()"
   ]
  },
  {
   "cell_type": "code",
   "execution_count": 8,
   "metadata": {},
   "outputs": [
    {
     "ename": "AttributeError",
     "evalue": "type object 'list' has no attribute 'rdd'",
     "output_type": "error",
     "traceback": [
      "\u001b[0;31m---------------------------------------------------------------------------\u001b[0m",
      "\u001b[0;31mAttributeError\u001b[0m                            Traceback (most recent call last)",
      "\u001b[1;32m/Users/minoseah629/Repos/AIT614Project/ewin/kmeans.ipynb Cell 54'\u001b[0m in \u001b[0;36m<cell line: 1>\u001b[0;34m()\u001b[0m\n\u001b[0;32m----> <a href='vscode-notebook-cell:/Users/minoseah629/Repos/AIT614Project/ewin/kmeans.ipynb#ch0000061?line=0'>1</a>\u001b[0m \u001b[39mdict\u001b[39m \u001b[39m=\u001b[39m \u001b[39mlist\u001b[39;49m\u001b[39m.\u001b[39;49mrdd\u001b[39m.\u001b[39mmap(\u001b[39mlambda\u001b[39;00m row: (row\u001b[39m.\u001b[39mprediction, row\u001b[39m.\u001b[39mpca))\u001b[39m.\u001b[39mcollect()\u001b[39m.\u001b[39mtodict()\n",
      "\u001b[0;31mAttributeError\u001b[0m: type object 'list' has no attribute 'rdd'"
     ]
    }
   ],
   "source": [
    "dict = list.rdd.map(lambda row: (row.prediction, row.pca)).collect().todict()"
   ]
  },
  {
   "cell_type": "code",
   "execution_count": 3,
   "metadata": {},
   "outputs": [
    {
     "name": "stderr",
     "output_type": "stream",
     "text": [
      "                                                                                \r"
     ]
    }
   ],
   "source": [
    "pca=spark.read.format(\"parquet\").load('/Users/minoseah629/Repos/AIT614Project/ewin/spark-warehouse/x_pca')"
   ]
  },
  {
   "cell_type": "code",
   "execution_count": 5,
   "metadata": {},
   "outputs": [
    {
     "name": "stderr",
     "output_type": "stream",
     "text": [
      "                                                                                \r"
     ]
    }
   ],
   "source": [
    "list1 = pca.rdd.map(lambda x : x.asDict()).collect()"
   ]
  },
  {
   "cell_type": "code",
   "execution_count": 43,
   "metadata": {},
   "outputs": [],
   "source": [
    "xarray = []\n",
    "yarray = []\n",
    "zarray = []\n",
    "parray = []\n",
    "for x in list1[:]:\n",
    "    xarray.append(x.get(\"pca\")[0])\n",
    "    yarray.append(x.get(\"pca\")[1])\n",
    "    zarray.append(x.get(\"pca\")[2])\n",
    "    parray.append(x.get(\"prediction\"))\n",
    "\n"
   ]
  },
  {
   "cell_type": "code",
   "execution_count": 45,
   "metadata": {},
   "outputs": [
    {
     "data": {
      "text/plain": [
       "340494.2455217763"
      ]
     },
     "metadata": {},
     "output_type": "display_data"
    },
    {
     "data": {
      "text/plain": [
       "360.08850070966656"
      ]
     },
     "metadata": {},
     "output_type": "display_data"
    },
    {
     "data": {
      "text/plain": [
       "1158.9678005295752"
      ]
     },
     "metadata": {},
     "output_type": "display_data"
    }
   ],
   "source": [
    "display(max(xarray))\n",
    "display(max(yarray))\n",
    "display(max(zarray))"
   ]
  },
  {
   "cell_type": "code",
   "execution_count": 48,
   "metadata": {},
   "outputs": [
    {
     "name": "stderr",
     "output_type": "stream",
     "text": [
      "/var/folders/6g/wst_75wx36bf65vy03zgqw_r0000gn/T/ipykernel_525/4094635012.py:4: MatplotlibDeprecationWarning: Calling gca() with keyword arguments was deprecated in Matplotlib 3.4. Starting two minor releases later, gca() will take no keyword arguments. The gca() function should only be used to get the current axes, or if no axes exist, create new axes with default keyword arguments. To create a new axes with non-default arguments, use plt.axes() or plt.subplot().\n",
      "  threedee = plt.figure(figsize=(5,8)).gca(projection='3d', autoscale_on=True)\n"
     ]
    },
    {
     "data": {
      "image/png": "[encoded data removed]",
      "text/plain": [
       "<Figure size 360x576 with 1 Axes>"
      ]
     },
     "metadata": {
      "needs_background": "light"
     },
     "output_type": "display_data"
    }
   ],
   "source": [
    "from mpl_toolkits.mplot3d import Axes3D\n",
    "import matplotlib.pyplot as plt\n",
    "#Create 3d visualization\n",
    "threedee = plt.figure(figsize=(5,8)).gca(projection='3d', autoscale_on=True)\n",
    "\n",
    "threedee.scatter(xarray, yarray, zarray,c=parray, cmap=\"seismic\")\n",
    "threedee.set_title('Customer Mall CLustering')\n",
    "threedee.set_xlabel('Age')\n",
    "threedee.set_ylabel('AnnIncome')\n",
    "threedee.set_zlabel('SpendScore')\n",
    "plt.show()"
   ]
  },
  {
   "cell_type": "markdown",
   "metadata": {},
   "source": [
    "everything before chart cell 18 https://towardsdatascience.com/k-means-clustering-using-pyspark-on-big-data-6214beacdc8b\n",
    "\n",
    "https://www.data4v.com/tutorial-k-means-clustering-on-spark/\n",
    "\n",
    "https://github.com/elsyifa/Clustering-Pyspark/blob/master/Clustering%20Using%20Pyspark_v2.ipynb\n",
    "https://andrewmourcos.github.io/blog/2019/06/06/PCA.html?msclkid=658ba0e2bcea11ecbea027e6fdcfaf6c"
   ]
  },
  {
   "cell_type": "code",
   "execution_count": 60,
   "metadata": {},
   "outputs": [],
   "source": [
    "spark.stop()"
   ]
  }
 ],
 "metadata": {
  "interpreter": {
   "hash": "aee8b7b246df8f9039afb4144a1f6fd8d2ca17a180786b69acc140d282b71a49"
  },
  "kernelspec": {
   "display_name": "PySpark",
   "language": "python",
   "name": "python3"
  },
  "language_info": {
   "codemirror_mode": {
    "name": "ipython",
    "version": 3
   },
   "file_extension": ".py",
   "mimetype": "text/x-python",
   "name": "python",
   "nbconvert_exporter": "python",
   "pygments_lexer": "ipython3",
   "version": "3.10.2"
  },
  "orig_nbformat": 4
 },
 "nbformat": 4,
 "nbformat_minor": 2
}
