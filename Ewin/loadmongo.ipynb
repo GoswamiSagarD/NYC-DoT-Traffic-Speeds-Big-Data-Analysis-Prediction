{
 "cells": [
  {
   "cell_type": "markdown",
   "metadata": {},
   "source": [
    "#pip install findspark\n",
    "#/usr/local/opt/apache-spark/libexec/sbin\n",
    "#./start-thriftserver.sh\n",
    "\n",
    "./bin/pyspark --conf \"spark.mongodb.input.uri=mongodb://localhost:27017/AIT614.NYCSpeed?readPreference=primaryPreferred\" \n",
    "              --conf \"spark.mongodb.output.uri=mongodb://localhost:27017/AIT614.NYCSpeed\" \n",
    "              --packages org.mongodb.spark:mongo-spark-connector_2.12:3.0.1"
   ]
  },
  {
   "cell_type": "code",
   "execution_count": 2,
   "metadata": {},
   "outputs": [],
   "source": [
    "import findspark\n",
    "findspark.init()\n",
    "#findspark.add_packages(\"org.mongodb.spark:mongo-spark-connector_2.12:3.0.1\")"
   ]
  },
  {
   "cell_type": "code",
   "execution_count": 10,
   "metadata": {},
   "outputs": [],
   "source": [
    "import pyspark\n",
    "from pyspark.sql import SparkSession\n",
    "\n",
    "spark = SparkSession\\\n",
    "    .builder\\\n",
    "    .appName(\"spark\")\\\n",
    "    .config('spark.driver.memory', '32g')\\\n",
    "    .config(\"spark.mongodb.input.uri\", \"mongodb://localhost:27017/NYCSpeed.coll\") \\\n",
    "    .config(\"spark.mongodb.output.uri\", \"mongodb://localhost:27017/NYCSpeed.coll\") \\\n",
    "    .config(\"spark.mongodb.output.database\", \"AIT614\")\\\n",
    "    .config(\"spark.jars.packages\", \"org.mongodb.spark:mongo-spark-connector_2.12:3.0.0\")\\\n",
    "    .enableHiveSupport()\\\n",
    "    .getOrCreate()\n",
    "\n",
    "#mongodb://localhost:27017/?readPreference=primary&appname=MongoDB%20Compass&directConnection=true&ssl=false"
   ]
  },
  {
   "cell_type": "code",
   "execution_count": 6,
   "metadata": {},
   "outputs": [
    {
     "name": "stdout",
     "output_type": "stream",
     "text": [
      "root\n",
      " |-- ID: integer (nullable = true)\n",
      " |-- Speed: double (nullable = true)\n",
      " |-- TravelTime: integer (nullable = true)\n",
      " |-- timedate: timestamp (nullable = true)\n",
      " |-- LinkId: integer (nullable = true)\n",
      " |-- LinkPoints: string (nullable = true)\n",
      " |-- Owner: string (nullable = true)\n",
      " |-- Borough: string (nullable = true)\n",
      " |-- Link_Name: string (nullable = true)\n",
      "\n",
      "+---+-----+----------+-------------------+-------+--------------------+--------------------+-------------+--------------------+\n",
      "| ID|Speed|TravelTime|           timedate| LinkId|          LinkPoints|               Owner|      Borough|           Link_Name|\n",
      "+---+-----+----------+-------------------+-------+--------------------+--------------------+-------------+--------------------+\n",
      "|398|42.87|       175|2018-11-17 08:43:40|4456481|40.77223,-73.9199...|MTA Bridges & Tun...|       Queens|TBB S MANHATTAN L...|\n",
      "|168|49.08|        94|2018-11-17 08:43:40|4456496|40.814761,-73.836...|         NYC_DOT_LIC|        Bronx|BWB S Toll Plaza ...|\n",
      "|164|43.49|       106|2018-11-17 08:43:40|4456497|40.79932,-73.8280...|         NYC_DOT_LIC|       Queens|BWB N Queens Anch...|\n",
      "|298| 46.6|        54|2018-11-17 08:43:40|4456498|40.8251205,-73.83...|         NYC_DOT_LIC|        Bronx|HRP S Lafayette A...|\n",
      "|451|44.11|       146|2018-11-17 08:43:40|4456500|40.7712605,-73.83...|         NYC_DOT_LIC|       Queens|Whitestone Expwy ...|\n",
      "|402|52.81|       130|2018-11-17 08:43:40|4456505|40.797815,-73.793...|         NYC_DOT_LIC|       Queens|TNB N Queens Anch...|\n",
      "|406|54.05|       127|2018-11-17 08:43:40|4456506|40.81763,-73.8036...|         NYC_DOT_LIC|       Queens|TNB S Toll Plaza ...|\n",
      "|365| 29.2|       184|2018-11-17 08:43:40|4456510|40.741534,-73.954...|         NYC_DOT_LIC|       Queens|QMT W Toll Plaza ...|\n",
      "|364|31.68|       168|2018-11-17 08:43:40|4456511|40.745726,-73.973...|         NYC_DOT_LIC|    Manhattan|QMT E Manhattan S...|\n",
      "|380|44.73|        52|2018-11-17 08:43:40|4763648|40.60399,-74.0522...|         NYC_DOT_LIC|Staten Island|SIE E VNB E FINGE...|\n",
      "|417|50.95|        91|2018-11-17 08:43:40|4763649|40.60414,-74.0524...|Verrazano-Narrows...|     Brooklyn|VNB W BROOKLYN GA...|\n",
      "|379|42.87|        54|2018-11-17 08:43:40|4763650|40.60408,-74.0522...|         NYC_DOT_LIC|Staten Island|SIE E VNB E FINGE...|\n",
      "|411|52.19|        89|2018-11-17 08:43:40|4763652|40.6040405,-74.05...|Verrazano-Narrows...|     Brooklyn|VNB E SI GANTRY U...|\n",
      "|264|36.66|        58|2018-11-17 08:43:40|4763655|40.6083804,-74.03...|Verrazano-Narrows...|     Brooklyn|GOW S VNB W 92ND ...|\n",
      "|410|50.95|        90|2018-11-17 08:43:40|4763656|40.6039704,-74.05...|Verrazano-Narrows...|     Brooklyn|VNB E SI GANTRY L...|\n",
      "|318|45.98|        86|2018-11-17 08:43:41|4362249|40.7442206,-73.77...|   NYC-DOT-Region 10|       Queens|LIE WB LITTLE NEC...|\n",
      "|211|59.03|       278|2018-11-17 08:43:41|4362250|40.78795,-73.7901...|   NYC-DOT-Region 10|       Queens|CVE NB GCP - WILL...|\n",
      "|311|51.57|        96|2018-11-17 08:43:41|4362342|40.72966,-73.8777...|         NYC_DOT_LIC|       Queens|LIE E 84TH ST - 1...|\n",
      "|347| 8.07|       879|2018-11-17 08:43:42|4456477|40.77223,-73.9199...|MTA Bridges & Tun...|       Queens|MDE S TBB EXIT RA...|\n",
      "|141|  0.0|         0|2018-11-17 08:43:42|4456478|40.772251,-73.919...|MTA Bridges & Tun...|       Queens|BE S TBB EXIT RAM...|\n",
      "+---+-----+----------+-------------------+-------+--------------------+--------------------+-------------+--------------------+\n",
      "only showing top 20 rows\n",
      "\n"
     ]
    },
    {
     "name": "stderr",
     "output_type": "stream",
     "text": [
      "22/03/22 20:45:42 WARN CSVHeaderChecker: CSV header does not conform to the schema.\n",
      " Header: ID, SPEED, TRAVEL_TIME, STATUS, DATA_AS_OF, LINK_ID, LINK_POINTS, ENCODED_POLY_LINE, ENCODED_POLY_LINE_LVLS, OWNER, TRANSCOM_ID, BOROUGH, LINK_NAME\n",
      " Schema: ID, Speed, TravelTime, Status, timedate, LinkId, LinkPoints, EncodedLinkPoints, EncodedPolyLineLvls, Owner, TranscomId, Borough, Link_Name\n",
      "Expected: TravelTime but found: TRAVEL_TIME\n",
      "CSV file: file:///Users/minoseah629/Downloads/DOT_Traffic_Speeds_NBE.csv\n"
     ]
    }
   ],
   "source": [
    "from pyspark.sql.types import StructType, StructField\n",
    "from pyspark.sql.types import DoubleType, IntegerType, StringType,TimestampType\n",
    "from pyspark.sql.types import DateType\n",
    "from pyspark.sql.functions import *\n",
    "\n",
    "schema = StructType([\n",
    "    StructField(\"ID\", IntegerType()),\n",
    "    StructField(\"Speed\", DoubleType()),\n",
    "    StructField(\"TravelTime\", IntegerType()),\n",
    "    StructField(\"Status\", IntegerType()),\n",
    "    StructField(\"timedate\", StringType()),\n",
    "    StructField(\"LinkId\", IntegerType()),\n",
    "    StructField(\"LinkPoints\", StringType()),\n",
    "    StructField(\"EncodedLinkPoints\", StringType()),\n",
    "    StructField(\"EncodedPolyLineLvls\", StringType()),\n",
    "    StructField(\"Owner\", StringType()),\n",
    "    StructField(\"TranscomId\", IntegerType()),\n",
    "    StructField(\"Borough\", StringType()),\n",
    "    StructField(\"Link_Name\", StringType())\n",
    "])\n",
    "\n",
    "schema1 = \"ID bigint, Speed float, TravelTime int, Status int, TimeDate string, LinkId int, LinkPoints string, EncodedLinkPoints string, EncodedPolyLineLvls string, Owner string, TranscomId int, Borough string,Link_Name string\"\n",
    "df2 = spark.read.format(\"csv\").option(\"header\", \"true\").schema(schema).load(\"file:/Users/minoseah629/Downloads/DOT_Traffic_Speeds_NBE.csv\")\n",
    "df2 = df2.withColumn(\"timedate\", to_timestamp(\"timedate\", 'MM/dd/yyyy hh:mm:ss a'))\n",
    "df2 = df2.na.drop()\n",
    "df2 = df2.drop(*(\"Status\",\"EncodedLinkPoints\",\"EncodedPolyLineLvls\",\"TranscomId\"))\n",
    "df2.createOrReplaceTempView(\"dataset\")\n"
   ]
  },
  {
   "cell_type": "code",
   "execution_count": 9,
   "metadata": {},
   "outputs": [
    {
     "name": "stderr",
     "output_type": "stream",
     "text": [
      "22/03/22 20:50:22 WARN CSVHeaderChecker: CSV header does not conform to the schema.\n",
      " Header: ID, SPEED, TRAVEL_TIME, STATUS, DATA_AS_OF, LINK_ID, LINK_POINTS, ENCODED_POLY_LINE, ENCODED_POLY_LINE_LVLS, OWNER, TRANSCOM_ID, BOROUGH, LINK_NAME\n",
      " Schema: ID, Speed, TravelTime, Status, timedate, LinkId, LinkPoints, EncodedLinkPoints, EncodedPolyLineLvls, Owner, TranscomId, Borough, Link_Name\n",
      "Expected: TravelTime but found: TRAVEL_TIME\n",
      "CSV file: file:///Users/minoseah629/Downloads/DOT_Traffic_Speeds_NBE.csv\n",
      "[Stage 3:====================================================>  (184 + 8) / 192]\r"
     ]
    },
    {
     "name": "stdout",
     "output_type": "stream",
     "text": [
      "+---+-----+----------+-------------------+-------+--------------------+-----------+-------------+--------------------+\n",
      "| ID|Speed|TravelTime|           timedate| LinkId|          LinkPoints|      Owner|      Borough|           Link_Name|\n",
      "+---+-----+----------+-------------------+-------+--------------------+-----------+-------------+--------------------+\n",
      "|381| 37.9|        38|2017-01-07 19:08:40|4616194|40.608031,-74.132...|NYC_DOT_LIC|Staten Island|SIE E WOOLEY AVEN...|\n",
      "|375| 37.9|       150|2017-01-07 19:08:40|4616193|40.61052,-74.0976...|NYC_DOT_LIC|Staten Island|SIE E BRADLEY AVE...|\n",
      "|435| 37.9|       142|2017-01-07 19:08:40|4616198|40.62102,-74.1688...|NYC_DOT_LIC|Staten Island|WSE N-SIE E SOUTH...|\n",
      "|378| 37.9|        66|2017-01-07 19:08:40|4616197|40.6210105,-74.16...|NYC_DOT_LIC|Staten Island|SIE E SOUTH AVENU...|\n",
      "|350| 29.2|       248|2017-01-07 19:08:40|4616196|40.63092,-74.1459...|NYC_DOT_LIC|Staten Island|MLK S - SIE E WAL...|\n",
      "|376| 37.9|       131|2017-01-07 19:08:40|4616192|40.61052,-74.0976...|NYC_DOT_LIC|Staten Island|SIE E CLOVE ROAD ...|\n",
      "|377| 37.9|        92|2017-01-07 19:08:40|4616195|40.61486,-74.1573...|NYC_DOT_LIC|Staten Island|SIE E RICHMOND AV...|\n",
      "|313|  0.0|         0|2017-02-08 17:55:05|4616365|40.74138001,-73.9...|NYC_DOT_LIC|       Queens|LIE E QMT TOLL PL...|\n",
      "|157| 4.97|      3037|2017-02-22 11:54:47|4616271|40.69158,-73.9992...|NYC_DOT_LIC|     Brooklyn|BQE S LEONARD STR...|\n",
      "|440|  3.1|      2113|2017-02-25 21:50:26|4329483|40.5264504,-74.27...|NYC_DOT_LIC|Staten Island|WSE S TYRELLAN AV...|\n",
      "|148|37.28|       398|2017-02-28 08:33:54|4616257|40.69153,-73.9991...|NYC_DOT_LIC|     Brooklyn|BQE N ATLANTIC AV...|\n",
      "|349| 6.84|       786|2017-03-14 14:59:10|4329499|40.6309004,-74.14...|NYC_DOT_LIC|Staten Island|MLK N WALKER STRE...|\n",
      "|313|36.04|       384|2017-03-21 21:41:50|4616365|40.74138001,-73.9...|NYC_DOT_LIC|       Queens|LIE E QMT TOLL PL...|\n",
      "|405|47.85|        53|2017-03-21 21:42:33|4362314|40.79782,-73.7933...|NYC_DOT_LIC|       Queens|TNB S Qns Anchora...|\n",
      "|137| 52.2|        75|2017-04-05 01:33:36|4616260|40.8242005,-73.87...|NYC_DOT_LIC|        Bronx|BE S CASTLE HILL ...|\n",
      "|148| 1.24|     10331|2017-04-05 01:33:36|4616257|40.69153,-73.9991...|NYC_DOT_LIC|     Brooklyn|BQE N ATLANTIC AV...|\n",
      "|157|49.71|       302|2017-04-05 01:33:36|4616271|40.69158,-73.9992...|NYC_DOT_LIC|     Brooklyn|BQE S LEONARD STR...|\n",
      "|316| 1.86|      6214|2017-04-05 01:33:47|4456516|40.729785,-73.877...|NYC_DOT_LIC|       Queens|LIE W 84TH ST - Q...|\n",
      "|316|  0.0|         0|2017-04-11 15:17:02|4456516|40.729785,-73.877...|NYC_DOT_LIC|       Queens|LIE W 84TH ST - Q...|\n",
      "|148|  0.0|         0|2017-04-27 14:07:03|4616257|40.69153,-73.9991...|NYC_DOT_LIC|     Brooklyn|BQE N ATLANTIC AV...|\n",
      "+---+-----+----------+-------------------+-------+--------------------+-----------+-------------+--------------------+\n",
      "only showing top 20 rows\n",
      "\n"
     ]
    },
    {
     "name": "stderr",
     "output_type": "stream",
     "text": [
      "                                                                                \r"
     ]
    }
   ],
   "source": [
    "df2 = spark.sql(\"select * from dataset where year(timedate) >= 2017 order by timedate asc\")\n",
    "df2.show()"
   ]
  },
  {
   "cell_type": "code",
   "execution_count": 11,
   "metadata": {},
   "outputs": [
    {
     "name": "stderr",
     "output_type": "stream",
     "text": [
      "22/03/22 20:54:16 WARN CSVHeaderChecker: CSV header does not conform to the schema.\n",
      " Header: ID, SPEED, TRAVEL_TIME, STATUS, DATA_AS_OF, LINK_ID, LINK_POINTS, ENCODED_POLY_LINE, ENCODED_POLY_LINE_LVLS, OWNER, TRANSCOM_ID, BOROUGH, LINK_NAME\n",
      " Schema: ID, Speed, TravelTime, Status, timedate, LinkId, LinkPoints, EncodedLinkPoints, EncodedPolyLineLvls, Owner, TranscomId, Borough, Link_Name\n",
      "Expected: TravelTime but found: TRAVEL_TIME\n",
      "CSV file: file:///Users/minoseah629/Downloads/DOT_Traffic_Speeds_NBE.csv\n",
      "22/03/22 20:55:55 WARN CSVHeaderChecker: CSV header does not conform to the schema.\n",
      " Header: ID, SPEED, TRAVEL_TIME, STATUS, DATA_AS_OF, LINK_ID, LINK_POINTS, ENCODED_POLY_LINE, ENCODED_POLY_LINE_LVLS, OWNER, TRANSCOM_ID, BOROUGH, LINK_NAME\n",
      " Schema: ID, Speed, TravelTime, Status, timedate, LinkId, LinkPoints, EncodedLinkPoints, EncodedPolyLineLvls, Owner, TranscomId, Borough, Link_Name\n",
      "Expected: TravelTime but found: TRAVEL_TIME\n",
      "CSV file: file:///Users/minoseah629/Downloads/DOT_Traffic_Speeds_NBE.csv\n",
      "                                                                                \r"
     ]
    }
   ],
   "source": [
    "df2.write.format(\"mongo\").mode('overwrite').save()"
   ]
  },
  {
   "cell_type": "code",
   "execution_count": 32,
   "metadata": {},
   "outputs": [],
   "source": [
    "columns1= \"year(timedate), month(timedate), day(timedate), hour(timedate), minute(timedate), second(timedate)\"\n",
    "select1 = \"select \"+columns1+\", count(second(timedate))\"\n",
    "from1 = \" from dataset\"\n",
    "groupby2= \" group by \"+columns1\n",
    "query1 = select1 + from1 + groupby2"
   ]
  },
  {
   "cell_type": "code",
   "execution_count": 33,
   "metadata": {},
   "outputs": [
    {
     "name": "stderr",
     "output_type": "stream",
     "text": [
      "22/03/13 00:30:24 WARN CSVHeaderChecker: CSV header does not conform to the schema.\n",
      " Header: DATA_AS_OF\n",
      " Schema: timedate\n",
      "Expected: timedate but found: DATA_AS_OF\n",
      "CSV file: file:///Users/minoseah629/Downloads/DOT_Traffic_Speeds_NBE.csv\n",
      "[Stage 35:>                                                         (0 + 1) / 1]\r"
     ]
    },
    {
     "name": "stdout",
     "output_type": "stream",
     "text": [
      "+--------------+---------------+-------------+--------------+----------------+----------------+-----------------------+\n",
      "|year(timedate)|month(timedate)|day(timedate)|hour(timedate)|minute(timedate)|second(timedate)|count(second(timedate))|\n",
      "+--------------+---------------+-------------+--------------+----------------+----------------+-----------------------+\n",
      "|          2018|             11|           17|            10|              52|              40|                      7|\n",
      "|          2018|             11|           17|            11|              12|              43|                      7|\n",
      "|          2018|             11|           17|            12|              48|              16|                      7|\n",
      "|          2018|             11|           17|            12|              48|              40|                      6|\n",
      "|          2019|              6|            6|             1|              53|               6|                      7|\n",
      "|          2018|             11|           17|            15|               8|              33|                      7|\n",
      "|          2018|             11|           17|            16|              52|              44|                      2|\n",
      "|          2018|             11|           17|            19|              47|              53|                     11|\n",
      "|          2018|             11|           17|            19|              42|              55|                     19|\n",
      "|          2018|             11|           18|             0|              58|              20|                      1|\n",
      "|          2018|             11|           18|             6|              48|              30|                      2|\n",
      "|          2018|             11|           18|             6|              58|              25|                     38|\n",
      "|          2018|             11|           18|            10|              52|              29|                     38|\n",
      "|          2018|             11|           18|            15|              23|              20|                     64|\n",
      "|          2018|             11|           19|             0|              13|              14|                     66|\n",
      "|          2018|             11|           19|             0|              38|              12|                      9|\n",
      "|          2018|             11|           19|             1|               3|              13|                     13|\n",
      "|          2018|             11|           19|             1|              38|              14|                     56|\n",
      "|          2018|             11|           19|             3|               3|              17|                     56|\n",
      "|          2018|             11|           19|             7|              48|              25|                     12|\n",
      "+--------------+---------------+-------------+--------------+----------------+----------------+-----------------------+\n",
      "only showing top 20 rows\n",
      "\n"
     ]
    },
    {
     "name": "stderr",
     "output_type": "stream",
     "text": [
      "                                                                                \r"
     ]
    }
   ],
   "source": [
    "df2.createOrReplaceTempView(\"dataset\")\n",
    "linkpoints = spark.sql(query1)\n",
    "linkpoints.show()"
   ]
  },
  {
   "cell_type": "code",
   "execution_count": 34,
   "metadata": {},
   "outputs": [
    {
     "name": "stderr",
     "output_type": "stream",
     "text": [
      "22/03/13 00:31:27 WARN CSVHeaderChecker: CSV header does not conform to the schema.\n",
      " Header: DATA_AS_OF\n",
      " Schema: timedate\n",
      "Expected: timedate but found: DATA_AS_OF\n",
      "CSV file: file:///Users/minoseah629/Downloads/DOT_Traffic_Speeds_NBE.csv\n",
      "                                                                                \r"
     ]
    }
   ],
   "source": [
    "linkpoints.write.format('csv').mode('overwrite').save('file:/Users/minoseah629/Desktop/ait614/second.csv')"
   ]
  },
  {
   "cell_type": "code",
   "execution_count": 5,
   "metadata": {},
   "outputs": [],
   "source": [
    "spark.stop()"
   ]
  }
 ],
 "metadata": {
  "interpreter": {
   "hash": "aee8b7b246df8f9039afb4144a1f6fd8d2ca17a180786b69acc140d282b71a49"
  },
  "kernelspec": {
   "display_name": "PySpark",
   "language": "python",
   "name": "python3"
  },
  "language_info": {
   "codemirror_mode": {
    "name": "ipython",
    "version": 3
   },
   "file_extension": ".py",
   "mimetype": "text/x-python",
   "name": "python",
   "nbconvert_exporter": "python",
   "pygments_lexer": "ipython3",
   "version": "3.10.2"
  },
  "orig_nbformat": 4
 },
 "nbformat": 4,
 "nbformat_minor": 2
}
